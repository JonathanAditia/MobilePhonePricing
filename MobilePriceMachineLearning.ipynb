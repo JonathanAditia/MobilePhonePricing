{
 "cells": [
  {
   "cell_type": "markdown",
   "metadata": {},
   "source": [
    "**Machine Learning**\n",
    "\n",
    "- Classify mobile phone price, based on it's features\n",
    "\n",
    "**Conclusion**\n",
    "\n",
    "- Support Vector Classification tuned is very good model in machine learning to classify mobile phone price"
   ]
  },
  {
   "cell_type": "code",
   "execution_count": 1,
   "metadata": {},
   "outputs": [],
   "source": [
    "import pandas as pd\n",
    "import numpy as np\n",
    "import matplotlib.pyplot as plt\n",
    "import seaborn as sns\n",
    "import warnings\n",
    "warnings.filterwarnings('ignore')\n",
    "\n",
    "%matplotlib inline"
   ]
  },
  {
   "cell_type": "code",
   "execution_count": 2,
   "metadata": {},
   "outputs": [
    {
     "data": {
      "text/html": [
       "<div>\n",
       "<style scoped>\n",
       "    .dataframe tbody tr th:only-of-type {\n",
       "        vertical-align: middle;\n",
       "    }\n",
       "\n",
       "    .dataframe tbody tr th {\n",
       "        vertical-align: top;\n",
       "    }\n",
       "\n",
       "    .dataframe thead th {\n",
       "        text-align: right;\n",
       "    }\n",
       "</style>\n",
       "<table border=\"1\" class=\"dataframe\">\n",
       "  <thead>\n",
       "    <tr style=\"text-align: right;\">\n",
       "      <th></th>\n",
       "      <th>battery_power</th>\n",
       "      <th>blue</th>\n",
       "      <th>clock_speed</th>\n",
       "      <th>dual_sim</th>\n",
       "      <th>fc</th>\n",
       "      <th>four_g</th>\n",
       "      <th>int_memory</th>\n",
       "      <th>m_dep</th>\n",
       "      <th>mobile_wt</th>\n",
       "      <th>n_cores</th>\n",
       "      <th>...</th>\n",
       "      <th>px_height</th>\n",
       "      <th>px_width</th>\n",
       "      <th>ram</th>\n",
       "      <th>sc_h</th>\n",
       "      <th>sc_w</th>\n",
       "      <th>talk_time</th>\n",
       "      <th>three_g</th>\n",
       "      <th>touch_screen</th>\n",
       "      <th>wifi</th>\n",
       "      <th>price_range</th>\n",
       "    </tr>\n",
       "  </thead>\n",
       "  <tbody>\n",
       "    <tr>\n",
       "      <th>0</th>\n",
       "      <td>842</td>\n",
       "      <td>0</td>\n",
       "      <td>2.2</td>\n",
       "      <td>0</td>\n",
       "      <td>1</td>\n",
       "      <td>0</td>\n",
       "      <td>7</td>\n",
       "      <td>0.6</td>\n",
       "      <td>188</td>\n",
       "      <td>2</td>\n",
       "      <td>...</td>\n",
       "      <td>20</td>\n",
       "      <td>756</td>\n",
       "      <td>2549</td>\n",
       "      <td>9</td>\n",
       "      <td>7</td>\n",
       "      <td>19</td>\n",
       "      <td>0</td>\n",
       "      <td>0</td>\n",
       "      <td>1</td>\n",
       "      <td>1</td>\n",
       "    </tr>\n",
       "    <tr>\n",
       "      <th>1</th>\n",
       "      <td>1021</td>\n",
       "      <td>1</td>\n",
       "      <td>0.5</td>\n",
       "      <td>1</td>\n",
       "      <td>0</td>\n",
       "      <td>1</td>\n",
       "      <td>53</td>\n",
       "      <td>0.7</td>\n",
       "      <td>136</td>\n",
       "      <td>3</td>\n",
       "      <td>...</td>\n",
       "      <td>905</td>\n",
       "      <td>1988</td>\n",
       "      <td>2631</td>\n",
       "      <td>17</td>\n",
       "      <td>3</td>\n",
       "      <td>7</td>\n",
       "      <td>1</td>\n",
       "      <td>1</td>\n",
       "      <td>0</td>\n",
       "      <td>2</td>\n",
       "    </tr>\n",
       "    <tr>\n",
       "      <th>2</th>\n",
       "      <td>563</td>\n",
       "      <td>1</td>\n",
       "      <td>0.5</td>\n",
       "      <td>1</td>\n",
       "      <td>2</td>\n",
       "      <td>1</td>\n",
       "      <td>41</td>\n",
       "      <td>0.9</td>\n",
       "      <td>145</td>\n",
       "      <td>5</td>\n",
       "      <td>...</td>\n",
       "      <td>1263</td>\n",
       "      <td>1716</td>\n",
       "      <td>2603</td>\n",
       "      <td>11</td>\n",
       "      <td>2</td>\n",
       "      <td>9</td>\n",
       "      <td>1</td>\n",
       "      <td>1</td>\n",
       "      <td>0</td>\n",
       "      <td>2</td>\n",
       "    </tr>\n",
       "    <tr>\n",
       "      <th>3</th>\n",
       "      <td>615</td>\n",
       "      <td>1</td>\n",
       "      <td>2.5</td>\n",
       "      <td>0</td>\n",
       "      <td>0</td>\n",
       "      <td>0</td>\n",
       "      <td>10</td>\n",
       "      <td>0.8</td>\n",
       "      <td>131</td>\n",
       "      <td>6</td>\n",
       "      <td>...</td>\n",
       "      <td>1216</td>\n",
       "      <td>1786</td>\n",
       "      <td>2769</td>\n",
       "      <td>16</td>\n",
       "      <td>8</td>\n",
       "      <td>11</td>\n",
       "      <td>1</td>\n",
       "      <td>0</td>\n",
       "      <td>0</td>\n",
       "      <td>2</td>\n",
       "    </tr>\n",
       "    <tr>\n",
       "      <th>4</th>\n",
       "      <td>1821</td>\n",
       "      <td>1</td>\n",
       "      <td>1.2</td>\n",
       "      <td>0</td>\n",
       "      <td>13</td>\n",
       "      <td>1</td>\n",
       "      <td>44</td>\n",
       "      <td>0.6</td>\n",
       "      <td>141</td>\n",
       "      <td>2</td>\n",
       "      <td>...</td>\n",
       "      <td>1208</td>\n",
       "      <td>1212</td>\n",
       "      <td>1411</td>\n",
       "      <td>8</td>\n",
       "      <td>2</td>\n",
       "      <td>15</td>\n",
       "      <td>1</td>\n",
       "      <td>1</td>\n",
       "      <td>0</td>\n",
       "      <td>1</td>\n",
       "    </tr>\n",
       "  </tbody>\n",
       "</table>\n",
       "<p>5 rows × 21 columns</p>\n",
       "</div>"
      ],
      "text/plain": [
       "   battery_power  blue  clock_speed  dual_sim  fc  four_g  int_memory  m_dep  \\\n",
       "0            842     0          2.2         0   1       0           7    0.6   \n",
       "1           1021     1          0.5         1   0       1          53    0.7   \n",
       "2            563     1          0.5         1   2       1          41    0.9   \n",
       "3            615     1          2.5         0   0       0          10    0.8   \n",
       "4           1821     1          1.2         0  13       1          44    0.6   \n",
       "\n",
       "   mobile_wt  n_cores  ...  px_height  px_width   ram  sc_h  sc_w  talk_time  \\\n",
       "0        188        2  ...         20       756  2549     9     7         19   \n",
       "1        136        3  ...        905      1988  2631    17     3          7   \n",
       "2        145        5  ...       1263      1716  2603    11     2          9   \n",
       "3        131        6  ...       1216      1786  2769    16     8         11   \n",
       "4        141        2  ...       1208      1212  1411     8     2         15   \n",
       "\n",
       "   three_g  touch_screen  wifi  price_range  \n",
       "0        0             0     1            1  \n",
       "1        1             1     0            2  \n",
       "2        1             1     0            2  \n",
       "3        1             0     0            2  \n",
       "4        1             1     0            1  \n",
       "\n",
       "[5 rows x 21 columns]"
      ]
     },
     "execution_count": 2,
     "metadata": {},
     "output_type": "execute_result"
    }
   ],
   "source": [
    "df = pd.read_csv('mobile_price.csv')\n",
    "df.head()"
   ]
  },
  {
   "cell_type": "markdown",
   "metadata": {},
   "source": [
    "**Data Preprocessing**"
   ]
  },
  {
   "cell_type": "markdown",
   "metadata": {},
   "source": [
    "**Checking Data - Target Column**"
   ]
  },
  {
   "cell_type": "code",
   "execution_count": 3,
   "metadata": {},
   "outputs": [
    {
     "data": {
      "text/plain": [
       "3    500\n",
       "2    500\n",
       "1    500\n",
       "0    500\n",
       "Name: price_range, dtype: int64"
      ]
     },
     "execution_count": 3,
     "metadata": {},
     "output_type": "execute_result"
    }
   ],
   "source": [
    "df['price_range'].value_counts()"
   ]
  },
  {
   "cell_type": "markdown",
   "metadata": {},
   "source": [
    "**Machine Learning Preprocessing**"
   ]
  },
  {
   "cell_type": "code",
   "execution_count": 4,
   "metadata": {},
   "outputs": [],
   "source": [
    "from sklearn.model_selection import train_test_split"
   ]
  },
  {
   "cell_type": "code",
   "execution_count": 5,
   "metadata": {},
   "outputs": [],
   "source": [
    "X = df.drop(columns='price_range')\n",
    "y = df['price_range']\n",
    "\n",
    "X_train, X_test, y_train, y_test = train_test_split(X, y, train_size = .90,random_state = 42)"
   ]
  },
  {
   "cell_type": "markdown",
   "metadata": {},
   "source": [
    "**Machine Learning**"
   ]
  },
  {
   "cell_type": "markdown",
   "metadata": {},
   "source": [
    "**LogReg**"
   ]
  },
  {
   "cell_type": "code",
   "execution_count": 6,
   "metadata": {},
   "outputs": [
    {
     "name": "stdout",
     "output_type": "stream",
     "text": [
      "Model Log Score : 0.69\n",
      "Model Log Predict : [0 2 0 3 1 2 3 0 3 3 0 1 2 3 3 2 2 2 1 0 0 1 0 2 1 1 3 3 3 0 1 0 3 0 2 3 2\n",
      " 1 3 0 1 2 3 0 3 3 3 1 3 1 3 2 0 0 2 0 2 2 0 0 1 3 3 2 2 0 3 3 1 1 2 2 0 1\n",
      " 2 0 0 3 2 2 3 2 1 0 1 3 3 3 3 0 3 3 3 0 3 2 3 3 2 1 0 1 0 0 0 3 3 0 0 1 0\n",
      " 0 3 3 2 1 3 3 0 2 1 3 2 1 3 3 0 3 0 2 3 0 2 2 0 2 1 1 0 2 3 1 3 3 0 0 1 2\n",
      " 1 1 3 1 1 0 2 3 0 1 0 1 3 3 2 2 1 0 0 2 1 3 3 1 0 0 3 1 1 2 0 1 0 0 0 1 3\n",
      " 2 0 2 0 0 0 0 1 3 3 1 0 1 1 1]\n"
     ]
    }
   ],
   "source": [
    "from sklearn.linear_model import LogisticRegression\n",
    "\n",
    "modelLog = LogisticRegression()\n",
    "modelLog.fit(X_train, y_train)\n",
    "modelLog.score(X_test, y_test)\n",
    "modelLog.predict(X_test)\n",
    "\n",
    "\n",
    "print('Model Log Score :',modelLog.score(X_test, y_test))\n",
    "print('Model Log Predict :',modelLog.predict(X_test))"
   ]
  },
  {
   "cell_type": "markdown",
   "metadata": {},
   "source": [
    "**KNN**"
   ]
  },
  {
   "cell_type": "code",
   "execution_count": 7,
   "metadata": {},
   "outputs": [
    {
     "name": "stdout",
     "output_type": "stream",
     "text": [
      "Model KNN Score : 0.95\n",
      "Model KNN Predict : [0 2 1 3 1 1 2 0 3 1 0 1 2 3 2 2 3 3 1 0 0 1 1 2 0 1 3 2 2 0 0 0 3 0 1 1 2\n",
      " 0 3 0 2 3 2 0 2 2 2 1 3 1 3 1 0 0 0 0 1 3 0 0 1 3 3 1 0 0 3 3 1 2 2 2 0 1\n",
      " 2 0 0 3 2 2 3 2 1 0 1 3 1 3 3 0 3 3 2 1 3 2 2 3 1 1 0 0 1 0 0 3 2 0 1 1 0\n",
      " 0 3 2 2 2 3 2 0 2 1 3 2 1 3 3 0 3 0 2 3 0 2 2 0 3 1 0 0 2 2 1 3 2 0 0 0 1\n",
      " 1 2 3 1 1 0 2 2 0 2 0 2 2 3 3 2 1 0 1 2 2 3 3 0 1 0 3 1 1 2 1 0 0 0 0 0 3\n",
      " 2 0 3 0 0 0 0 1 3 3 1 0 1 1 1]\n"
     ]
    }
   ],
   "source": [
    "from sklearn.neighbors import KNeighborsClassifier\n",
    "\n",
    "modelKNN = KNeighborsClassifier()\n",
    "modelKNN.fit(X_train, y_train)\n",
    "modelKNN.score(X_test, y_test)\n",
    "modelKNN.predict(X_test)\n",
    "\n",
    "print('Model KNN Score :',modelKNN.score(X_test, y_test))\n",
    "print('Model KNN Predict :',modelKNN.predict(X_test))"
   ]
  },
  {
   "cell_type": "markdown",
   "metadata": {},
   "source": [
    "**RF**"
   ]
  },
  {
   "cell_type": "code",
   "execution_count": 8,
   "metadata": {},
   "outputs": [
    {
     "name": "stdout",
     "output_type": "stream",
     "text": [
      "Model RF Score : 0.88\n",
      "Model RF Predict : [0 2 1 3 1 2 2 0 3 1 0 1 2 3 2 2 3 3 1 0 0 1 1 2 0 1 2 2 2 0 0 0 3 0 1 1 2\n",
      " 0 3 0 2 3 2 0 3 3 2 1 3 1 3 1 0 0 1 1 1 3 0 0 0 3 3 1 0 0 3 3 1 1 2 3 0 1\n",
      " 2 0 0 3 2 2 3 2 1 0 1 3 1 3 3 0 3 3 2 1 3 2 2 3 2 1 0 0 1 0 0 3 2 0 1 1 0\n",
      " 0 3 1 3 2 3 3 0 2 1 3 2 1 3 3 0 3 0 2 3 0 2 2 0 3 1 0 0 2 3 0 2 2 0 0 0 1\n",
      " 1 2 3 1 1 0 2 2 0 1 0 1 2 3 2 3 1 0 0 2 2 3 3 1 1 0 3 1 2 2 1 0 0 0 0 0 3\n",
      " 2 0 3 0 0 0 0 1 3 3 1 0 1 2 1]\n"
     ]
    }
   ],
   "source": [
    "from sklearn.ensemble import RandomForestClassifier\n",
    "\n",
    "modelRF = RandomForestClassifier()\n",
    "modelRF.fit(X_train, y_train)\n",
    "modelRF.score(X_test, y_test)\n",
    "modelRF.predict(X_test)\n",
    "\n",
    "print('Model RF Score :',modelRF.score(X_test, y_test))\n",
    "print('Model RF Predict :',modelRF.predict(X_test))"
   ]
  },
  {
   "cell_type": "markdown",
   "metadata": {},
   "source": [
    "**SVC**"
   ]
  },
  {
   "cell_type": "code",
   "execution_count": 9,
   "metadata": {},
   "outputs": [
    {
     "name": "stdout",
     "output_type": "stream",
     "text": [
      "Model SVC Score : 0.965\n",
      "Model SVC Predict : [0 2 1 3 1 1 2 0 3 1 0 0 2 3 3 2 3 3 1 0 0 1 1 2 0 1 3 2 2 0 0 0 3 0 1 1 2\n",
      " 0 3 0 2 3 2 0 2 2 2 1 3 1 3 1 0 0 1 1 1 3 0 0 1 3 3 1 0 0 3 3 1 2 2 2 0 1\n",
      " 2 0 0 3 2 2 3 2 1 0 1 3 1 3 3 0 3 3 2 1 3 2 2 3 1 1 0 0 1 0 0 3 2 0 1 1 0\n",
      " 0 3 1 3 2 3 2 0 2 1 3 2 1 3 3 0 3 0 2 3 0 2 2 0 3 1 0 0 2 2 1 2 2 0 0 0 1\n",
      " 1 2 3 1 1 0 2 2 0 1 0 2 2 3 3 3 1 0 1 2 2 3 3 0 1 0 3 1 1 2 1 0 0 0 0 0 3\n",
      " 2 0 3 0 0 0 0 1 3 3 1 0 1 1 1]\n"
     ]
    }
   ],
   "source": [
    "from sklearn.svm import SVC\n",
    "\n",
    "modelSVC = SVC(max_iter = 1000, cache_size=1000)\n",
    "modelSVC.fit(X_train, y_train)\n",
    "modelSVC.score(X_test, y_test)\n",
    "modelSVC.predict(X_test)\n",
    "\n",
    "print('Model SVC Score :',modelSVC.score(X_test, y_test))\n",
    "print('Model SVC Predict :',modelSVC.predict(X_test))"
   ]
  },
  {
   "cell_type": "markdown",
   "metadata": {},
   "source": [
    "**Metrics**"
   ]
  },
  {
   "cell_type": "code",
   "execution_count": 10,
   "metadata": {},
   "outputs": [],
   "source": [
    "from sklearn.metrics import classification_report, confusion_matrix, recall_score, precision_score, f1_score, accuracy_score"
   ]
  },
  {
   "cell_type": "code",
   "execution_count": 11,
   "metadata": {},
   "outputs": [],
   "source": [
    "y_pred_Logtr = modelLog.predict(X_train)\n",
    "acc_Logtr = accuracy_score(y_train, y_pred_Logtr)\n",
    "prec_Logtr = precision_score(y_train, y_pred_Logtr, average=\"weighted\")\n",
    "rec0_Logtr = recall_score (y_train, y_pred_Logtr, pos_label=0, average=\"weighted\")\n",
    "rec1_Logtr = recall_score(y_train, y_pred_Logtr, pos_label=1, average=\"weighted\")\n",
    "rec2_Logtr = recall_score(y_train, y_pred_Logtr, pos_label=2, average=\"weighted\")\n",
    "rec3_Logtr = recall_score(y_train, y_pred_Logtr, pos_label=3, average=\"weighted\")\n",
    "f1_Logtr = f1_score(y_train, y_pred_Logtr, average=\"weighted\")\n",
    "\n",
    "y_pred_KNNtr = modelKNN.predict(X_train)\n",
    "acc_KNNtr = accuracy_score(y_train, y_pred_KNNtr)\n",
    "prec_KNNtr = precision_score(y_train, y_pred_KNNtr, average=\"weighted\")\n",
    "rec0_KNNtr = recall_score (y_train, y_pred_KNNtr, pos_label=0, average=\"weighted\")\n",
    "rec1_KNNtr = recall_score(y_train, y_pred_KNNtr, pos_label=1, average=\"weighted\")\n",
    "rec2_KNNtr = recall_score(y_train, y_pred_KNNtr, pos_label=2, average=\"weighted\")\n",
    "rec3_KNNtr = recall_score(y_train, y_pred_KNNtr, pos_label=3, average=\"weighted\")\n",
    "f1_KNNtr = f1_score(y_train, y_pred_KNNtr, average=\"weighted\")\n",
    "\n",
    "y_pred_RFtr = modelRF.predict(X_train)\n",
    "acc_RFtr = accuracy_score(y_train, y_pred_RFtr)\n",
    "prec_RFtr = precision_score(y_train, y_pred_RFtr, average=\"weighted\")\n",
    "rec0_RFtr = recall_score (y_train, y_pred_RFtr, pos_label=0, average=\"weighted\")\n",
    "rec1_RFtr = recall_score(y_train, y_pred_RFtr, pos_label=1, average=\"weighted\")\n",
    "rec2_RFtr = recall_score(y_train, y_pred_RFtr, pos_label=2, average=\"weighted\")\n",
    "rec3_RFtr = recall_score(y_train, y_pred_RFtr, pos_label=3, average=\"weighted\")\n",
    "f1_RFtr = f1_score(y_train, y_pred_RFtr, average=\"weighted\")\n",
    "\n",
    "y_pred_SVCtr = modelSVC.predict(X_train)\n",
    "acc_SVCtr = accuracy_score(y_train, y_pred_SVCtr)\n",
    "prec_SVCtr = precision_score(y_train, y_pred_SVCtr, average=\"weighted\")\n",
    "rec0_SVCtr = recall_score (y_train, y_pred_SVCtr, pos_label=0, average=\"weighted\")\n",
    "rec1_SVCtr = recall_score(y_train, y_pred_SVCtr, pos_label=1, average=\"weighted\")\n",
    "rec2_SVCtr = recall_score(y_train, y_pred_SVCtr, pos_label=2, average=\"weighted\")\n",
    "rec3_SVCtr = recall_score(y_train, y_pred_SVCtr, pos_label=3, average=\"weighted\")\n",
    "f1_SVCtr = f1_score(y_train, y_pred_SVCtr, average=\"weighted\")\n",
    "\n",
    "\n",
    "y_pred_Logts = modelLog.predict(X_test)\n",
    "acc_Logts = accuracy_score(y_test, y_pred_Logts)\n",
    "prec_Logts = precision_score(y_test, y_pred_Logts, average=\"weighted\")\n",
    "rec0_Logts = recall_score (y_test, y_pred_Logts, pos_label=0, average=\"weighted\")\n",
    "rec1_Logts = recall_score(y_test, y_pred_Logts, pos_label=1, average=\"weighted\")\n",
    "rec2_Logts = recall_score(y_test, y_pred_Logts, pos_label=2, average=\"weighted\")\n",
    "rec3_Logts = recall_score(y_test, y_pred_Logts, pos_label=3, average=\"weighted\")\n",
    "f1_Logts = f1_score(y_test, y_pred_Logts, average=\"weighted\")\n",
    "\n",
    "y_pred_KNNts = modelKNN.predict(X_test)\n",
    "acc_KNNts = accuracy_score(y_test, y_pred_KNNts)\n",
    "prec_KNNts = precision_score(y_test, y_pred_KNNts, average=\"weighted\")\n",
    "rec0_KNNts = recall_score (y_test, y_pred_KNNts, pos_label=0, average=\"weighted\")\n",
    "rec1_KNNts = recall_score(y_test, y_pred_KNNts, pos_label=1, average=\"weighted\")\n",
    "rec2_KNNts = recall_score(y_test, y_pred_KNNts, pos_label=2, average=\"weighted\")\n",
    "rec3_KNNts = recall_score(y_test, y_pred_KNNts, pos_label=3, average=\"weighted\")\n",
    "f1_KNNts = f1_score(y_test, y_pred_KNNts, average=\"weighted\")\n",
    "\n",
    "y_pred_RFts = modelRF.predict(X_test)\n",
    "acc_RFts = accuracy_score(y_test, y_pred_RFts)\n",
    "prec_RFts = precision_score(y_test, y_pred_RFts, average=\"weighted\")\n",
    "rec0_RFts = recall_score (y_test, y_pred_RFts, pos_label=0, average=\"weighted\")\n",
    "rec1_RFts = recall_score(y_test, y_pred_RFts, pos_label=1, average=\"weighted\")\n",
    "rec2_RFts = recall_score(y_test, y_pred_RFts, pos_label=2, average=\"weighted\")\n",
    "rec3_RFts = recall_score(y_test, y_pred_RFts, pos_label=3, average=\"weighted\")\n",
    "f1_RFts = f1_score(y_test, y_pred_RFts, average=\"weighted\")\n",
    "\n",
    "y_pred_SVCts = modelSVC.predict(X_test)\n",
    "acc_SVCts = accuracy_score(y_test, y_pred_SVCts)\n",
    "prec_SVCts = precision_score(y_test, y_pred_SVCts, average=\"weighted\")\n",
    "rec0_SVCts = recall_score (y_test, y_pred_SVCts, pos_label=0, average=\"weighted\")\n",
    "rec1_SVCts = recall_score(y_test, y_pred_SVCts, pos_label=1, average=\"weighted\")\n",
    "rec2_SVCts = recall_score(y_test, y_pred_SVCts, pos_label=2, average=\"weighted\")\n",
    "rec3_SVCts = recall_score(y_test, y_pred_SVCts, pos_label=3, average=\"weighted\")\n",
    "f1_SVCts = f1_score(y_test, y_pred_SVCts, average=\"weighted\")"
   ]
  },
  {
   "cell_type": "code",
   "execution_count": 12,
   "metadata": {},
   "outputs": [
    {
     "data": {
      "text/html": [
       "<div>\n",
       "<style scoped>\n",
       "    .dataframe tbody tr th:only-of-type {\n",
       "        vertical-align: middle;\n",
       "    }\n",
       "\n",
       "    .dataframe tbody tr th {\n",
       "        vertical-align: top;\n",
       "    }\n",
       "\n",
       "    .dataframe thead th {\n",
       "        text-align: right;\n",
       "    }\n",
       "</style>\n",
       "<table border=\"1\" class=\"dataframe\">\n",
       "  <thead>\n",
       "    <tr style=\"text-align: right;\">\n",
       "      <th></th>\n",
       "      <th>LogReg Train</th>\n",
       "      <th>LogReg Test</th>\n",
       "      <th>KNN Train</th>\n",
       "      <th>KNN Test</th>\n",
       "      <th>RF Train</th>\n",
       "      <th>RF Test</th>\n",
       "      <th>SVC Train</th>\n",
       "      <th>SVC Test</th>\n",
       "    </tr>\n",
       "  </thead>\n",
       "  <tbody>\n",
       "    <tr>\n",
       "      <th>Accuracy</th>\n",
       "      <td>0.631667</td>\n",
       "      <td>0.690000</td>\n",
       "      <td>0.952222</td>\n",
       "      <td>0.950000</td>\n",
       "      <td>1.0</td>\n",
       "      <td>0.880000</td>\n",
       "      <td>0.953333</td>\n",
       "      <td>0.965000</td>\n",
       "    </tr>\n",
       "    <tr>\n",
       "      <th>Precision</th>\n",
       "      <td>0.630483</td>\n",
       "      <td>0.688258</td>\n",
       "      <td>0.952506</td>\n",
       "      <td>0.951081</td>\n",
       "      <td>1.0</td>\n",
       "      <td>0.879372</td>\n",
       "      <td>0.953363</td>\n",
       "      <td>0.964973</td>\n",
       "    </tr>\n",
       "    <tr>\n",
       "      <th>Recall</th>\n",
       "      <td>0.631667</td>\n",
       "      <td>0.690000</td>\n",
       "      <td>0.952222</td>\n",
       "      <td>0.950000</td>\n",
       "      <td>1.0</td>\n",
       "      <td>0.880000</td>\n",
       "      <td>0.953333</td>\n",
       "      <td>0.965000</td>\n",
       "    </tr>\n",
       "    <tr>\n",
       "      <th>F1 Score</th>\n",
       "      <td>0.630278</td>\n",
       "      <td>0.686432</td>\n",
       "      <td>0.952289</td>\n",
       "      <td>0.950098</td>\n",
       "      <td>1.0</td>\n",
       "      <td>0.879461</td>\n",
       "      <td>0.953154</td>\n",
       "      <td>0.964935</td>\n",
       "    </tr>\n",
       "  </tbody>\n",
       "</table>\n",
       "</div>"
      ],
      "text/plain": [
       "           LogReg Train  LogReg Test  KNN Train  KNN Test  RF Train   RF Test  \\\n",
       "Accuracy       0.631667     0.690000   0.952222  0.950000       1.0  0.880000   \n",
       "Precision      0.630483     0.688258   0.952506  0.951081       1.0  0.879372   \n",
       "Recall         0.631667     0.690000   0.952222  0.950000       1.0  0.880000   \n",
       "F1 Score       0.630278     0.686432   0.952289  0.950098       1.0  0.879461   \n",
       "\n",
       "           SVC Train  SVC Test  \n",
       "Accuracy    0.953333  0.965000  \n",
       "Precision   0.953363  0.964973  \n",
       "Recall      0.953333  0.965000  \n",
       "F1 Score    0.953154  0.964935  "
      ]
     },
     "execution_count": 12,
     "metadata": {},
     "output_type": "execute_result"
    }
   ],
   "source": [
    "data = {\n",
    "    \"LogReg Train\" : [acc_Logtr, prec_Logtr, rec1_Logtr, f1_Logtr],\n",
    "    \"LogReg Test\" : [acc_Logts, prec_Logts, rec1_Logts, f1_Logts],\n",
    "    \"KNN Train\" : [acc_KNNtr, prec_KNNtr, rec1_KNNtr, f1_KNNtr],\n",
    "    \"KNN Test\" : [acc_KNNts, prec_KNNts, rec1_KNNts, f1_KNNts],\n",
    "    \"RF Train\" : [acc_RFtr, prec_RFtr, rec1_RFtr, f1_RFtr],\n",
    "    \"RF Test\" : [acc_RFts, prec_RFts, rec1_RFts, f1_RFts],\n",
    "    \"SVC Train\" : [acc_SVCtr, prec_SVCtr, rec1_SVCtr, f1_SVCtr],\n",
    "    \"SVC Test\" : [acc_SVCts, prec_SVCts, rec1_SVCts, f1_SVCts]\n",
    "}\n",
    "pd.DataFrame(data=data, index=['Accuracy', 'Precision', 'Recall', 'F1 Score'])"
   ]
  },
  {
   "cell_type": "markdown",
   "metadata": {},
   "source": [
    "**Hyperparameter Tuning**"
   ]
  },
  {
   "cell_type": "markdown",
   "metadata": {},
   "source": [
    "Parameter"
   ]
  },
  {
   "cell_type": "code",
   "execution_count": 13,
   "metadata": {},
   "outputs": [],
   "source": [
    "Param_Log = {\n",
    "    \"penalty\" : [\"l1\",\"l2\",\"elasticnet\",\"none\"],\n",
    "    \"class_weight\" : [dict, \"balanced\"],\n",
    "    \"max_iter\" : [10,100,500],\n",
    "    \"intercept_scaling\" : [1,5,10]\n",
    "}\n",
    "\n",
    "Param_KNN = {\n",
    "    \"n_neighbors\" : [1,3,5],\n",
    "    \"weights\" : [\"distance\",\"uniform\"],\n",
    "    \"leaf_size\" : [1,5,15]\n",
    "}\n",
    "\n",
    "Param_RF = {\n",
    "    \"n_estimators\" : [50,300],\n",
    "     #\"max_depth\" : [8],\n",
    "     \"min_samples_split\" : [2,5],\n",
    "     \"min_samples_leaf\" : [1,2]\n",
    "}\n",
    "\n",
    "Param_SVC = {\n",
    "    \"max_iter\" : [2000],\n",
    "    \"kernel\" : ['poly', 'rbf', 'sigmoid'],\n",
    "    \"cache_size\" : [2000],\n",
    "}"
   ]
  },
  {
   "cell_type": "code",
   "execution_count": 14,
   "metadata": {},
   "outputs": [],
   "source": [
    "from sklearn.model_selection import GridSearchCV"
   ]
  },
  {
   "cell_type": "markdown",
   "metadata": {},
   "source": [
    "**Logistic Regression Tuning**"
   ]
  },
  {
   "cell_type": "code",
   "execution_count": 15,
   "metadata": {},
   "outputs": [
    {
     "name": "stdout",
     "output_type": "stream",
     "text": [
      "Fitting 3 folds for each of 72 candidates, totalling 216 fits\n"
     ]
    },
    {
     "name": "stderr",
     "output_type": "stream",
     "text": [
      "[Parallel(n_jobs=-1)]: Using backend LokyBackend with 6 concurrent workers.\n",
      "[Parallel(n_jobs=-1)]: Done  41 tasks      | elapsed:    1.8s\n",
      "[Parallel(n_jobs=-1)]: Done 205 out of 216 | elapsed:    3.0s remaining:    0.1s\n",
      "[Parallel(n_jobs=-1)]: Done 216 out of 216 | elapsed:    3.4s finished\n"
     ]
    },
    {
     "name": "stdout",
     "output_type": "stream",
     "text": [
      "Best Score : 0.6888888888888888\n",
      "Tuned recall LogReg Tuned Train :  0.6988888888888889\n",
      "Tuned recall LogReg Tuned Test :  0.71\n"
     ]
    }
   ],
   "source": [
    "model_tuned_1 = GridSearchCV(estimator=modelLog, param_grid=Param_Log, cv = 3, n_jobs=-1, verbose=1)\n",
    "\n",
    "model_tuned_1.fit(X_train, y_train)\n",
    "model_tuned_1.best_score_\n",
    "model_tuned_1_1 = model_tuned_1.best_estimator_\n",
    "y_tune_1_train = model_tuned_1_1.predict(X_train)\n",
    "y_tune_1_test = model_tuned_1_1.predict(X_test)\n",
    "\n",
    "print('Best Score :',model_tuned_1.best_score_)\n",
    "print('Tuned recall LogReg Tuned Train : ', recall_score(y_train, y_tune_1_train, average=\"weighted\"))\n",
    "print('Tuned recall LogReg Tuned Test : ', recall_score(y_test, y_tune_1_test, average=\"weighted\"))"
   ]
  },
  {
   "cell_type": "markdown",
   "metadata": {},
   "source": [
    "**KNN Tuning**"
   ]
  },
  {
   "cell_type": "code",
   "execution_count": 16,
   "metadata": {},
   "outputs": [
    {
     "name": "stdout",
     "output_type": "stream",
     "text": [
      "Fitting 3 folds for each of 18 candidates, totalling 54 fits\n"
     ]
    },
    {
     "name": "stderr",
     "output_type": "stream",
     "text": [
      "[Parallel(n_jobs=-1)]: Using backend LokyBackend with 6 concurrent workers.\n"
     ]
    },
    {
     "name": "stdout",
     "output_type": "stream",
     "text": [
      "Best Score : 0.9105555555555555\n",
      "Tuned recall KNN Tuned Train :  1.0\n",
      "Tuned recall KNN Tuned Test :  0.95\n"
     ]
    },
    {
     "name": "stderr",
     "output_type": "stream",
     "text": [
      "[Parallel(n_jobs=-1)]: Done  54 out of  54 | elapsed:    0.3s finished\n"
     ]
    }
   ],
   "source": [
    "model_tuned_2 = GridSearchCV(estimator=modelKNN, param_grid=Param_KNN, cv = 3, n_jobs=-1, verbose=1)\n",
    "\n",
    "model_tuned_2.fit(X_train, y_train)\n",
    "model_tuned_2.best_score_\n",
    "model_tuned_2_1 = model_tuned_2.best_estimator_\n",
    "y_tune_2_train = model_tuned_2_1.predict(X_train)\n",
    "y_tune_2_test = model_tuned_2_1.predict(X_test)\n",
    "\n",
    "print('Best Score :',model_tuned_2.best_score_)\n",
    "print('Tuned recall KNN Tuned Train : ', recall_score(y_train, y_tune_2_train, average=\"weighted\"))\n",
    "print('Tuned recall KNN Tuned Test : ', recall_score(y_test, y_tune_2_test, average=\"weighted\"))"
   ]
  },
  {
   "cell_type": "markdown",
   "metadata": {},
   "source": [
    "**Random Forest Tuning**"
   ]
  },
  {
   "cell_type": "code",
   "execution_count": 17,
   "metadata": {},
   "outputs": [
    {
     "name": "stderr",
     "output_type": "stream",
     "text": [
      "[Parallel(n_jobs=-1)]: Using backend LokyBackend with 6 concurrent workers.\n"
     ]
    },
    {
     "name": "stdout",
     "output_type": "stream",
     "text": [
      "Fitting 3 folds for each of 8 candidates, totalling 24 fits\n"
     ]
    },
    {
     "name": "stderr",
     "output_type": "stream",
     "text": [
      "[Parallel(n_jobs=-1)]: Done  24 out of  24 | elapsed:    2.4s finished\n"
     ]
    },
    {
     "name": "stdout",
     "output_type": "stream",
     "text": [
      "Best Score : 0.8705555555555556\n",
      "Tuned recall RF Tuned Train :  1.0\n",
      "Tuned recall RF Tuned Test :  0.88\n"
     ]
    }
   ],
   "source": [
    "model_tuned_3 = GridSearchCV(estimator=modelRF, param_grid=Param_RF, cv = 3, n_jobs=-1, verbose=1)\n",
    "\n",
    "model_tuned_3.fit(X_train, y_train)\n",
    "model_tuned_3.best_score_\n",
    "model_tuned_3_1 = model_tuned_3.best_estimator_\n",
    "y_tune_3_train = model_tuned_3_1.predict(X_train)\n",
    "y_tune_3_test = model_tuned_3_1.predict(X_test)\n",
    "\n",
    "print('Best Score :',model_tuned_3.best_score_)\n",
    "print('Tuned recall RF Tuned Train : ', recall_score(y_train, y_tune_3_train, average=\"weighted\"))\n",
    "print('Tuned recall RF Tuned Test : ', recall_score(y_test, y_tune_3_test, average=\"weighted\"))"
   ]
  },
  {
   "cell_type": "markdown",
   "metadata": {},
   "source": [
    "**SVC Tuning**"
   ]
  },
  {
   "cell_type": "code",
   "execution_count": 18,
   "metadata": {},
   "outputs": [
    {
     "name": "stdout",
     "output_type": "stream",
     "text": [
      "Fitting 3 folds for each of 3 candidates, totalling 9 fits\n",
      "Best Score : 0.9516666666666667\n",
      "Tuned recall SVC Tuned Train :  0.96\n",
      "Tuned recall SVC Tuned Test :  0.97\n"
     ]
    },
    {
     "name": "stderr",
     "output_type": "stream",
     "text": [
      "[Parallel(n_jobs=-1)]: Using backend LokyBackend with 6 concurrent workers.\n",
      "[Parallel(n_jobs=-1)]: Done   9 out of   9 | elapsed:    0.0s finished\n"
     ]
    }
   ],
   "source": [
    "model_tuned_4 = GridSearchCV(estimator=modelSVC, param_grid=Param_SVC, cv = 3, n_jobs=-1, verbose=1)\n",
    "\n",
    "model_tuned_4.fit(X_train, y_train)\n",
    "model_tuned_4.best_score_\n",
    "model_tuned_4_1 = model_tuned_4.best_estimator_\n",
    "y_tune_4_train = model_tuned_4_1.predict(X_train)\n",
    "y_tune_4_test = model_tuned_4_1.predict(X_test)\n",
    "\n",
    "print('Best Score :',model_tuned_4.best_score_)\n",
    "print('Tuned recall SVC Tuned Train : ', recall_score(y_train, y_tune_4_train, average=\"weighted\"))\n",
    "print('Tuned recall SVC Tuned Test : ', recall_score(y_test, y_tune_4_test, average=\"weighted\"))"
   ]
  },
  {
   "cell_type": "markdown",
   "metadata": {},
   "source": [
    "**Evaluation Metrics Tuned**"
   ]
  },
  {
   "cell_type": "code",
   "execution_count": 19,
   "metadata": {},
   "outputs": [],
   "source": [
    "acc_Logtr_tuned = accuracy_score(y_train, y_tune_1_train)\n",
    "prec_Logtr_tuned = precision_score(y_train, y_tune_1_train, average=\"weighted\")\n",
    "rec0_Logtr_tuned = recall_score(y_train, y_tune_1_train, pos_label=0, average=\"weighted\")\n",
    "rec1_Logtr_tuned = recall_score(y_train, y_tune_1_train, pos_label=1, average=\"weighted\")\n",
    "f1_Logtr_tuned = f1_score(y_train, y_tune_1_train, average=\"weighted\")\n",
    "\n",
    "acc_KNNtr_tuned = accuracy_score(y_train, y_tune_2_train)\n",
    "prec_KNNtr_tuned = precision_score(y_train, y_tune_2_train, average=\"weighted\")\n",
    "rec0_KNNtr_tuned = recall_score(y_train, y_tune_2_train, pos_label=0, average=\"weighted\")\n",
    "rec1_KNNtr_tuned = recall_score(y_train, y_tune_2_train, pos_label=1, average=\"weighted\")\n",
    "f1_KNNtr_tuned = f1_score(y_train, y_tune_2_train, average=\"weighted\")\n",
    "\n",
    "acc_RFtr_tuned = accuracy_score(y_train, y_tune_3_train)\n",
    "prec_RFtr_tuned = precision_score(y_train, y_tune_3_train, average=\"weighted\")\n",
    "rec0_RFtr_tuned = recall_score(y_train, y_tune_3_train, pos_label=0, average=\"weighted\")\n",
    "rec1_RFtr_tuned = recall_score(y_train, y_tune_3_train, pos_label=1, average=\"weighted\")\n",
    "f1_RFtr_tuned = f1_score(y_train, y_tune_3_train, average=\"weighted\")\n",
    "\n",
    "acc_SVCtr_tuned = accuracy_score(y_train, y_tune_4_train)\n",
    "prec_SVCtr_tuned = precision_score(y_train, y_tune_4_train, average=\"weighted\")\n",
    "rec0_SVCtr_tuned = recall_score(y_train, y_tune_4_train, pos_label=0, average=\"weighted\")\n",
    "rec1_SVCtr_tuned = recall_score(y_train, y_tune_4_train, pos_label=1, average=\"weighted\")\n",
    "f1_SVCtr_tuned = f1_score(y_train, y_tune_4_train, average=\"weighted\")\n",
    "\n",
    "\n",
    "acc_Logts_tuned = accuracy_score(y_test, y_tune_1_test)\n",
    "prec_Logts_tuned = precision_score(y_test, y_tune_1_test, average=\"weighted\")\n",
    "rec0_Logts_tuned = recall_score(y_test, y_tune_1_test, pos_label=0, average=\"weighted\")\n",
    "rec1_Logts_tuned = recall_score(y_test, y_tune_1_test, pos_label=1, average=\"weighted\")\n",
    "f1_Logts_tuned = f1_score(y_test, y_tune_1_test, average=\"weighted\")\n",
    "\n",
    "acc_KNNts_tuned = accuracy_score(y_test, y_tune_2_test)\n",
    "prec_KNNts_tuned = precision_score(y_test, y_tune_2_test, average=\"weighted\")\n",
    "rec0_KNNts_tuned = recall_score(y_test, y_tune_2_test, pos_label=0, average=\"weighted\")\n",
    "rec1_KNNts_tuned = recall_score(y_test, y_tune_2_test, pos_label=1, average=\"weighted\")\n",
    "f1_KNNts_tuned = f1_score(y_test, y_tune_2_test, average=\"weighted\")\n",
    "\n",
    "acc_RFts_tuned = accuracy_score(y_test, y_tune_3_test)\n",
    "prec_RFts_tuned = precision_score(y_test, y_tune_3_test, average=\"weighted\")\n",
    "rec0_RFts_tuned = recall_score(y_test, y_tune_3_test, pos_label=0, average=\"weighted\")\n",
    "rec1_RFts_tuned = recall_score(y_test, y_tune_3_test, pos_label=1, average=\"weighted\")\n",
    "f1_RFts_tuned = f1_score(y_test, y_tune_3_test, average=\"weighted\")\n",
    "\n",
    "acc_SVCts_tuned = accuracy_score(y_test, y_tune_4_test)\n",
    "prec_SVCts_tuned = precision_score(y_test, y_tune_4_test, average=\"weighted\")\n",
    "rec0_SVCts_tuned = recall_score(y_test, y_tune_4_test, pos_label=0, average=\"weighted\")\n",
    "rec1_SVCts_tuned = recall_score(y_test, y_tune_4_test, pos_label=1, average=\"weighted\")\n",
    "f1_SVCts_tuned = f1_score(y_test, y_tune_4_test, average=\"weighted\")"
   ]
  },
  {
   "cell_type": "code",
   "execution_count": 20,
   "metadata": {},
   "outputs": [
    {
     "data": {
      "text/html": [
       "<div>\n",
       "<style scoped>\n",
       "    .dataframe tbody tr th:only-of-type {\n",
       "        vertical-align: middle;\n",
       "    }\n",
       "\n",
       "    .dataframe tbody tr th {\n",
       "        vertical-align: top;\n",
       "    }\n",
       "\n",
       "    .dataframe thead th {\n",
       "        text-align: right;\n",
       "    }\n",
       "</style>\n",
       "<table border=\"1\" class=\"dataframe\">\n",
       "  <thead>\n",
       "    <tr style=\"text-align: right;\">\n",
       "      <th></th>\n",
       "      <th>LogReg Tuned Train</th>\n",
       "      <th>LogReg Tuned Test</th>\n",
       "      <th>KNN Tuned Train</th>\n",
       "      <th>KNN Tuned Test</th>\n",
       "      <th>RF Tuned Train</th>\n",
       "      <th>RF Tuned Test</th>\n",
       "      <th>SVC Tuned Train</th>\n",
       "      <th>SVC Tuned Test</th>\n",
       "    </tr>\n",
       "  </thead>\n",
       "  <tbody>\n",
       "    <tr>\n",
       "      <th>Accuracy</th>\n",
       "      <td>0.698889</td>\n",
       "      <td>0.710000</td>\n",
       "      <td>1.0</td>\n",
       "      <td>0.950000</td>\n",
       "      <td>1.0</td>\n",
       "      <td>0.880000</td>\n",
       "      <td>0.960000</td>\n",
       "      <td>0.970000</td>\n",
       "    </tr>\n",
       "    <tr>\n",
       "      <th>Precision</th>\n",
       "      <td>0.699354</td>\n",
       "      <td>0.711388</td>\n",
       "      <td>1.0</td>\n",
       "      <td>0.951081</td>\n",
       "      <td>1.0</td>\n",
       "      <td>0.881236</td>\n",
       "      <td>0.959988</td>\n",
       "      <td>0.970115</td>\n",
       "    </tr>\n",
       "    <tr>\n",
       "      <th>Recall</th>\n",
       "      <td>0.698889</td>\n",
       "      <td>0.710000</td>\n",
       "      <td>1.0</td>\n",
       "      <td>0.950000</td>\n",
       "      <td>1.0</td>\n",
       "      <td>0.880000</td>\n",
       "      <td>0.960000</td>\n",
       "      <td>0.970000</td>\n",
       "    </tr>\n",
       "    <tr>\n",
       "      <th>F1 Score</th>\n",
       "      <td>0.698773</td>\n",
       "      <td>0.709302</td>\n",
       "      <td>1.0</td>\n",
       "      <td>0.950098</td>\n",
       "      <td>1.0</td>\n",
       "      <td>0.880029</td>\n",
       "      <td>0.959846</td>\n",
       "      <td>0.969925</td>\n",
       "    </tr>\n",
       "  </tbody>\n",
       "</table>\n",
       "</div>"
      ],
      "text/plain": [
       "           LogReg Tuned Train  LogReg Tuned Test  KNN Tuned Train  \\\n",
       "Accuracy             0.698889           0.710000              1.0   \n",
       "Precision            0.699354           0.711388              1.0   \n",
       "Recall               0.698889           0.710000              1.0   \n",
       "F1 Score             0.698773           0.709302              1.0   \n",
       "\n",
       "           KNN Tuned Test  RF Tuned Train  RF Tuned Test  SVC Tuned Train  \\\n",
       "Accuracy         0.950000             1.0       0.880000         0.960000   \n",
       "Precision        0.951081             1.0       0.881236         0.959988   \n",
       "Recall           0.950000             1.0       0.880000         0.960000   \n",
       "F1 Score         0.950098             1.0       0.880029         0.959846   \n",
       "\n",
       "           SVC Tuned Test  \n",
       "Accuracy         0.970000  \n",
       "Precision        0.970115  \n",
       "Recall           0.970000  \n",
       "F1 Score         0.969925  "
      ]
     },
     "execution_count": 20,
     "metadata": {},
     "output_type": "execute_result"
    }
   ],
   "source": [
    "data = {\n",
    "    \"LogReg Tuned Train\" : [acc_Logtr_tuned, prec_Logtr_tuned, rec1_Logtr_tuned, f1_Logtr_tuned],\n",
    "    \"LogReg Tuned Test\" : [acc_Logts_tuned, prec_Logts_tuned, rec1_Logts_tuned, f1_Logts_tuned],\n",
    "    \"KNN Tuned Train\" : [acc_KNNtr_tuned, prec_KNNtr_tuned, rec1_KNNtr_tuned, f1_KNNtr_tuned],\n",
    "    \"KNN Tuned Test\" : [acc_KNNts_tuned, prec_KNNts_tuned, rec1_KNNts_tuned, f1_KNNts_tuned],\n",
    "    \"RF Tuned Train\" : [acc_RFtr_tuned, prec_RFtr_tuned, rec1_RFtr_tuned, f1_RFtr_tuned],\n",
    "    \"RF Tuned Test\" : [acc_RFts_tuned, prec_RFts_tuned, rec1_RFts_tuned, f1_RFts_tuned],\n",
    "    \"SVC Tuned Train\" : [acc_SVCtr_tuned, prec_SVCtr_tuned, rec1_SVCtr_tuned, f1_SVCtr_tuned],\n",
    "    \"SVC Tuned Test\" : [acc_SVCts_tuned, prec_SVCts_tuned, rec1_SVCts_tuned, f1_SVCts_tuned]\n",
    "}\n",
    "pd.DataFrame(data=data, index=['Accuracy', 'Precision', 'Recall', 'F1 Score'])"
   ]
  },
  {
   "cell_type": "markdown",
   "metadata": {},
   "source": [
    "**Confusion Matrix**"
   ]
  },
  {
   "cell_type": "code",
   "execution_count": 33,
   "metadata": {},
   "outputs": [],
   "source": [
    "cmLog = confusion_matrix(y_test, y_tune_1_test, labels=[3, 2, 1, 0])\n",
    "dfLog = pd.DataFrame(data=cmLog, columns=['Prediction 3', 'Prediction 2', 'Prediction 1', 'Prediction 0'], index = ['Actual 3', 'Actual 2', 'Actual 1', 'Actual 0'])\n",
    "\n",
    "cmKNN = confusion_matrix(y_test, y_tune_2_test, labels=[3, 2, 1, 0])\n",
    "dfKNN = pd.DataFrame(data=cmKNN, columns=['Prediction 3', 'Prediction 2', 'Prediction 1', 'Prediction 0'], index = ['Actual 3', 'Actual 2', 'Actual 1', 'Actual 0'])\n",
    "\n",
    "cmRF = confusion_matrix(y_test, y_tune_3_test, labels=[3, 2, 1, 0])\n",
    "dfRF = pd.DataFrame(data=cmRF, columns=['Prediction 3', 'Prediction 2', 'Prediction 1', 'Prediction 0'], index = ['Actual 3', 'Actual 2', 'Actual 1', 'Actual 0'])\n",
    "\n",
    "cmSVC = confusion_matrix(y_test, y_tune_4_test, labels=[3, 2, 1, 0])\n",
    "dfSVC = pd.DataFrame(data=cmSVC, columns=['Prediction 3', 'Prediction 2', 'Prediction 1', 'Prediction 0'], index = ['Actual 3', 'Actual 2', 'Actual 1', 'Actual 0'])"
   ]
  },
  {
   "cell_type": "code",
   "execution_count": 34,
   "metadata": {},
   "outputs": [
    {
     "data": {
      "image/png": "[encoded data removed]",
      "text/plain": [
       "<Figure size 1296x1296 with 8 Axes>"
      ]
     },
     "metadata": {
      "needs_background": "light"
     },
     "output_type": "display_data"
    }
   ],
   "source": [
    "plt.figure(figsize=(18, 18))\n",
    "\n",
    "plt.subplot(4,4,1)\n",
    "sns.heatmap(dfLog, annot=True)\n",
    "plt.title('Logistic Regression')\n",
    "\n",
    "plt.subplot(4,4,2)\n",
    "sns.heatmap(dfKNN, annot=True)\n",
    "plt.title('K Nearest Neighbor')\n",
    "\n",
    "plt.subplot(4,4,3)\n",
    "sns.heatmap(dfRF, annot=True)\n",
    "plt.title('Random Forest Classifier')\n",
    "\n",
    "plt.subplot(4,4,4)\n",
    "sns.heatmap(dfSVC, annot=True)\n",
    "plt.title('Support Vector Classification')\n",
    "\n",
    "plt.show()"
   ]
  }
 ],
 "metadata": {
  "kernelspec": {
   "display_name": "Python 3",
   "language": "python",
   "name": "python3"
  },
  "language_info": {
   "codemirror_mode": {
    "name": "ipython",
    "version": 3
   },
   "file_extension": ".py",
   "mimetype": "text/x-python",
   "name": "python",
   "nbconvert_exporter": "python",
   "pygments_lexer": "ipython3",
   "version": "3.8.3"
  }
 },
 "nbformat": 4,
 "nbformat_minor": 4
}
