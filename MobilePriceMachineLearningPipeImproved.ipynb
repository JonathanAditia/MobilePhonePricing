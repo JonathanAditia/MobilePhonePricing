{
 "cells": [
  {
   "cell_type": "markdown",
   "metadata": {},
   "source": [
    "**Machine Learning**\n",
    "\n",
    "- Classify mobile phone price, based on it's features\n",
    "\n",
    "**Conclusion**\n",
    "\n",
    "- Support Vector Classification tuned is very good model in machine learning to classify mobile phone price"
   ]
  },
  {
   "cell_type": "code",
   "execution_count": 1,
   "metadata": {},
   "outputs": [],
   "source": [
    "import pandas as pd\n",
    "import numpy as np\n",
    "import matplotlib.pyplot as plt\n",
    "import seaborn as sns\n",
    "import warnings\n",
    "warnings.filterwarnings('ignore')\n",
    "\n",
    "%matplotlib inline"
   ]
  },
  {
   "cell_type": "code",
   "execution_count": 2,
   "metadata": {
    "scrolled": true
   },
   "outputs": [
    {
     "data": {
      "text/html": [
       "<div>\n",
       "<style scoped>\n",
       "    .dataframe tbody tr th:only-of-type {\n",
       "        vertical-align: middle;\n",
       "    }\n",
       "\n",
       "    .dataframe tbody tr th {\n",
       "        vertical-align: top;\n",
       "    }\n",
       "\n",
       "    .dataframe thead th {\n",
       "        text-align: right;\n",
       "    }\n",
       "</style>\n",
       "<table border=\"1\" class=\"dataframe\">\n",
       "  <thead>\n",
       "    <tr style=\"text-align: right;\">\n",
       "      <th></th>\n",
       "      <th>battery_power</th>\n",
       "      <th>blue</th>\n",
       "      <th>clock_speed</th>\n",
       "      <th>dual_sim</th>\n",
       "      <th>fc</th>\n",
       "      <th>four_g</th>\n",
       "      <th>int_memory</th>\n",
       "      <th>m_dep</th>\n",
       "      <th>mobile_wt</th>\n",
       "      <th>n_cores</th>\n",
       "      <th>...</th>\n",
       "      <th>px_height</th>\n",
       "      <th>px_width</th>\n",
       "      <th>ram</th>\n",
       "      <th>sc_h</th>\n",
       "      <th>sc_w</th>\n",
       "      <th>talk_time</th>\n",
       "      <th>three_g</th>\n",
       "      <th>touch_screen</th>\n",
       "      <th>wifi</th>\n",
       "      <th>price_range</th>\n",
       "    </tr>\n",
       "  </thead>\n",
       "  <tbody>\n",
       "    <tr>\n",
       "      <th>0</th>\n",
       "      <td>842</td>\n",
       "      <td>0</td>\n",
       "      <td>2.2</td>\n",
       "      <td>0</td>\n",
       "      <td>1</td>\n",
       "      <td>0</td>\n",
       "      <td>7</td>\n",
       "      <td>0.6</td>\n",
       "      <td>188</td>\n",
       "      <td>2</td>\n",
       "      <td>...</td>\n",
       "      <td>20</td>\n",
       "      <td>756</td>\n",
       "      <td>2549</td>\n",
       "      <td>9</td>\n",
       "      <td>7</td>\n",
       "      <td>19</td>\n",
       "      <td>0</td>\n",
       "      <td>0</td>\n",
       "      <td>1</td>\n",
       "      <td>1</td>\n",
       "    </tr>\n",
       "    <tr>\n",
       "      <th>1</th>\n",
       "      <td>1021</td>\n",
       "      <td>1</td>\n",
       "      <td>0.5</td>\n",
       "      <td>1</td>\n",
       "      <td>0</td>\n",
       "      <td>1</td>\n",
       "      <td>53</td>\n",
       "      <td>0.7</td>\n",
       "      <td>136</td>\n",
       "      <td>3</td>\n",
       "      <td>...</td>\n",
       "      <td>905</td>\n",
       "      <td>1988</td>\n",
       "      <td>2631</td>\n",
       "      <td>17</td>\n",
       "      <td>3</td>\n",
       "      <td>7</td>\n",
       "      <td>1</td>\n",
       "      <td>1</td>\n",
       "      <td>0</td>\n",
       "      <td>2</td>\n",
       "    </tr>\n",
       "    <tr>\n",
       "      <th>2</th>\n",
       "      <td>563</td>\n",
       "      <td>1</td>\n",
       "      <td>0.5</td>\n",
       "      <td>1</td>\n",
       "      <td>2</td>\n",
       "      <td>1</td>\n",
       "      <td>41</td>\n",
       "      <td>0.9</td>\n",
       "      <td>145</td>\n",
       "      <td>5</td>\n",
       "      <td>...</td>\n",
       "      <td>1263</td>\n",
       "      <td>1716</td>\n",
       "      <td>2603</td>\n",
       "      <td>11</td>\n",
       "      <td>2</td>\n",
       "      <td>9</td>\n",
       "      <td>1</td>\n",
       "      <td>1</td>\n",
       "      <td>0</td>\n",
       "      <td>2</td>\n",
       "    </tr>\n",
       "    <tr>\n",
       "      <th>3</th>\n",
       "      <td>615</td>\n",
       "      <td>1</td>\n",
       "      <td>2.5</td>\n",
       "      <td>0</td>\n",
       "      <td>0</td>\n",
       "      <td>0</td>\n",
       "      <td>10</td>\n",
       "      <td>0.8</td>\n",
       "      <td>131</td>\n",
       "      <td>6</td>\n",
       "      <td>...</td>\n",
       "      <td>1216</td>\n",
       "      <td>1786</td>\n",
       "      <td>2769</td>\n",
       "      <td>16</td>\n",
       "      <td>8</td>\n",
       "      <td>11</td>\n",
       "      <td>1</td>\n",
       "      <td>0</td>\n",
       "      <td>0</td>\n",
       "      <td>2</td>\n",
       "    </tr>\n",
       "    <tr>\n",
       "      <th>4</th>\n",
       "      <td>1821</td>\n",
       "      <td>1</td>\n",
       "      <td>1.2</td>\n",
       "      <td>0</td>\n",
       "      <td>13</td>\n",
       "      <td>1</td>\n",
       "      <td>44</td>\n",
       "      <td>0.6</td>\n",
       "      <td>141</td>\n",
       "      <td>2</td>\n",
       "      <td>...</td>\n",
       "      <td>1208</td>\n",
       "      <td>1212</td>\n",
       "      <td>1411</td>\n",
       "      <td>8</td>\n",
       "      <td>2</td>\n",
       "      <td>15</td>\n",
       "      <td>1</td>\n",
       "      <td>1</td>\n",
       "      <td>0</td>\n",
       "      <td>1</td>\n",
       "    </tr>\n",
       "  </tbody>\n",
       "</table>\n",
       "<p>5 rows × 21 columns</p>\n",
       "</div>"
      ],
      "text/plain": [
       "   battery_power  blue  clock_speed  dual_sim  fc  four_g  int_memory  m_dep  \\\n",
       "0            842     0          2.2         0   1       0           7    0.6   \n",
       "1           1021     1          0.5         1   0       1          53    0.7   \n",
       "2            563     1          0.5         1   2       1          41    0.9   \n",
       "3            615     1          2.5         0   0       0          10    0.8   \n",
       "4           1821     1          1.2         0  13       1          44    0.6   \n",
       "\n",
       "   mobile_wt  n_cores  ...  px_height  px_width   ram  sc_h  sc_w  talk_time  \\\n",
       "0        188        2  ...         20       756  2549     9     7         19   \n",
       "1        136        3  ...        905      1988  2631    17     3          7   \n",
       "2        145        5  ...       1263      1716  2603    11     2          9   \n",
       "3        131        6  ...       1216      1786  2769    16     8         11   \n",
       "4        141        2  ...       1208      1212  1411     8     2         15   \n",
       "\n",
       "   three_g  touch_screen  wifi  price_range  \n",
       "0        0             0     1            1  \n",
       "1        1             1     0            2  \n",
       "2        1             1     0            2  \n",
       "3        1             0     0            2  \n",
       "4        1             1     0            1  \n",
       "\n",
       "[5 rows x 21 columns]"
      ]
     },
     "execution_count": 2,
     "metadata": {},
     "output_type": "execute_result"
    }
   ],
   "source": [
    "df = pd.read_csv('mobile_price.csv')\n",
    "df.head()"
   ]
  },
  {
   "cell_type": "code",
   "execution_count": 3,
   "metadata": {},
   "outputs": [],
   "source": [
    "from sklearn.model_selection import train_test_split"
   ]
  },
  {
   "cell_type": "code",
   "execution_count": 4,
   "metadata": {},
   "outputs": [],
   "source": [
    "X = df.drop(columns='price_range')\n",
    "y = df['price_range']\n",
    "\n",
    "X_train, X_test, y_train, y_test = train_test_split(X, y, train_size = .90,random_state = 42)"
   ]
  },
  {
   "cell_type": "code",
   "execution_count": 5,
   "metadata": {},
   "outputs": [],
   "source": [
    "from sklearn.pipeline import Pipeline\n",
    "from sklearn.impute import SimpleImputer\n",
    "from sklearn.preprocessing import OneHotEncoder, LabelEncoder, MinMaxScaler, StandardScaler, RobustScaler\n",
    "from sklearn.linear_model import LogisticRegression\n",
    "from sklearn.neighbors import KNeighborsClassifier\n",
    "from sklearn.ensemble import RandomForestClassifier\n",
    "from sklearn.svm import SVC\n",
    "from sklearn.compose import ColumnTransformer\n",
    "from sklearn.metrics import classification_report, confusion_matrix, recall_score, precision_score, f1_score, accuracy_score"
   ]
  },
  {
   "cell_type": "code",
   "execution_count": 6,
   "metadata": {},
   "outputs": [],
   "source": [
    "cat_columns = []\n",
    "\n",
    "num_columns = [\"battery_power\",\n",
    "    \"blue\",\n",
    "    \"clock_speed\",\n",
    "    \"dual_sim\",\n",
    "    \"four_g\",\n",
    "    \"fc\",\n",
    "    \"int_memory\",\n",
    "    \"m_dep\",\n",
    "    \"mobile_wt\",\n",
    "    \"n_cores\",\n",
    "    \"pc\",\n",
    "    \"px_height\",\n",
    "    \"px_width\",\n",
    "    \"ram\",\n",
    "    \"sc_h\",\n",
    "    \"sc_w\",\n",
    "    \"talk_time\",\n",
    "    \"three_g\",\n",
    "    \"touch_screen\",\n",
    "    \"wifi\"]"
   ]
  },
  {
   "cell_type": "code",
   "execution_count": 7,
   "metadata": {},
   "outputs": [],
   "source": [
    "numerical_pipeline = Pipeline([\n",
    "    ('imputer', SimpleImputer(strategy='mean')),\n",
    "    ('scaler', RobustScaler())\n",
    "])\n",
    "\n",
    "categorical_pipeline = Pipeline([\n",
    "    ('imputer', SimpleImputer(strategy='most_frequent')),\n",
    "    ('encoder', OneHotEncoder())\n",
    "])\n",
    "\n",
    "preprocessor = ColumnTransformer([\n",
    "    ('numeric', numerical_pipeline, num_columns),\n",
    "    ('categorical', categorical_pipeline, cat_columns)\n",
    "])"
   ]
  },
  {
   "cell_type": "code",
   "execution_count": 8,
   "metadata": {},
   "outputs": [
    {
     "data": {
      "text/plain": [
       "Pipeline(steps=[('prep',\n",
       "                 ColumnTransformer(transformers=[('numeric',\n",
       "                                                  Pipeline(steps=[('imputer',\n",
       "                                                                   SimpleImputer()),\n",
       "                                                                  ('scaler',\n",
       "                                                                   RobustScaler())]),\n",
       "                                                  ['battery_power', 'blue',\n",
       "                                                   'clock_speed', 'dual_sim',\n",
       "                                                   'four_g', 'fc', 'int_memory',\n",
       "                                                   'm_dep', 'mobile_wt',\n",
       "                                                   'n_cores', 'pc', 'px_height',\n",
       "                                                   'px_width', 'ram', 'sc_h',\n",
       "                                                   'sc_w', 'talk_time',\n",
       "                                                   'three_g', 'touch_screen',\n",
       "                                                   'wifi']),\n",
       "                                                 ('categorical',\n",
       "                                                  Pipeline(steps=[('imputer',\n",
       "                                                                   SimpleImputer(strategy='most_frequent')),\n",
       "                                                                  ('encoder',\n",
       "                                                                   OneHotEncoder())]),\n",
       "                                                  [])])),\n",
       "                ('algo', SVC())])"
      ]
     },
     "execution_count": 8,
     "metadata": {},
     "output_type": "execute_result"
    }
   ],
   "source": [
    "pipe_Log = Pipeline([\n",
    "    (\"prep\", preprocessor),\n",
    "    (\"algo\", LogisticRegression())\n",
    "])\n",
    "\n",
    "pipe_KNN = Pipeline([\n",
    "    (\"prep\", preprocessor),\n",
    "    (\"algo\", KNeighborsClassifier())\n",
    "])\n",
    "\n",
    "pipe_RF = Pipeline([\n",
    "    (\"prep\", preprocessor),\n",
    "    (\"algo\", RandomForestClassifier())\n",
    "])\n",
    "\n",
    "pipe_SVC = Pipeline([\n",
    "    (\"prep\", preprocessor),\n",
    "    (\"algo\", SVC())\n",
    "])\n",
    "\n",
    "pipe_Log.fit(X_train, y_train)\n",
    "pipe_KNN.fit(X_train, y_train)\n",
    "pipe_RF.fit(X_train, y_train)\n",
    "pipe_SVC.fit(X_train, y_train)"
   ]
  },
  {
   "cell_type": "code",
   "execution_count": 9,
   "metadata": {},
   "outputs": [],
   "source": [
    "y_pred_Logtr = pipe_Log.predict(X_train)\n",
    "acc_Logtr = accuracy_score(y_train, y_pred_Logtr)\n",
    "prec_Logtr = precision_score(y_train, y_pred_Logtr, average=\"weighted\")\n",
    "rec0_Logtr = recall_score (y_train, y_pred_Logtr, pos_label=0, average=\"weighted\")\n",
    "rec1_Logtr = recall_score(y_train, y_pred_Logtr, pos_label=1, average=\"weighted\")\n",
    "rec2_Logtr = recall_score(y_train, y_pred_Logtr, pos_label=2, average=\"weighted\")\n",
    "rec3_Logtr = recall_score(y_train, y_pred_Logtr, pos_label=3, average=\"weighted\")\n",
    "f1_Logtr = f1_score(y_train, y_pred_Logtr, average=\"weighted\")\n",
    "\n",
    "y_pred_KNNtr = pipe_KNN.predict(X_train)\n",
    "acc_KNNtr = accuracy_score(y_train, y_pred_KNNtr)\n",
    "prec_KNNtr = precision_score(y_train, y_pred_KNNtr, average=\"weighted\")\n",
    "rec0_KNNtr = recall_score (y_train, y_pred_KNNtr, pos_label=0, average=\"weighted\")\n",
    "rec1_KNNtr = recall_score(y_train, y_pred_KNNtr, pos_label=1, average=\"weighted\")\n",
    "rec2_KNNtr = recall_score(y_train, y_pred_KNNtr, pos_label=2, average=\"weighted\")\n",
    "rec3_KNNtr = recall_score(y_train, y_pred_KNNtr, pos_label=3, average=\"weighted\")\n",
    "f1_KNNtr = f1_score(y_train, y_pred_KNNtr, average=\"weighted\")\n",
    "\n",
    "y_pred_RFtr = pipe_RF.predict(X_train)\n",
    "acc_RFtr = accuracy_score(y_train, y_pred_RFtr)\n",
    "prec_RFtr = precision_score(y_train, y_pred_RFtr, average=\"weighted\")\n",
    "rec0_RFtr = recall_score (y_train, y_pred_RFtr, pos_label=0, average=\"weighted\")\n",
    "rec1_RFtr = recall_score(y_train, y_pred_RFtr, pos_label=1, average=\"weighted\")\n",
    "rec2_RFtr = recall_score(y_train, y_pred_RFtr, pos_label=2, average=\"weighted\")\n",
    "rec3_RFtr = recall_score(y_train, y_pred_RFtr, pos_label=3, average=\"weighted\")\n",
    "f1_RFtr = f1_score(y_train, y_pred_RFtr, average=\"weighted\")\n",
    "\n",
    "y_pred_SVCtr = pipe_SVC.predict(X_train)\n",
    "acc_SVCtr = accuracy_score(y_train, y_pred_SVCtr)\n",
    "prec_SVCtr = precision_score(y_train, y_pred_SVCtr, average=\"weighted\")\n",
    "rec0_SVCtr = recall_score (y_train, y_pred_SVCtr, pos_label=0, average=\"weighted\")\n",
    "rec1_SVCtr = recall_score(y_train, y_pred_SVCtr, pos_label=1, average=\"weighted\")\n",
    "rec2_SVCtr = recall_score(y_train, y_pred_SVCtr, pos_label=2, average=\"weighted\")\n",
    "rec3_SVCtr = recall_score(y_train, y_pred_SVCtr, pos_label=3, average=\"weighted\")\n",
    "f1_SVCtr = f1_score(y_train, y_pred_SVCtr, average=\"weighted\")\n",
    "\n",
    "\n",
    "y_pred_Logts = pipe_Log.predict(X_test)\n",
    "acc_Logts = accuracy_score(y_test, y_pred_Logts)\n",
    "prec_Logts = precision_score(y_test, y_pred_Logts, average=\"weighted\")\n",
    "rec0_Logts = recall_score (y_test, y_pred_Logts, pos_label=0, average=\"weighted\")\n",
    "rec1_Logts = recall_score(y_test, y_pred_Logts, pos_label=1, average=\"weighted\")\n",
    "rec2_Logts = recall_score(y_test, y_pred_Logts, pos_label=2, average=\"weighted\")\n",
    "rec3_Logts = recall_score(y_test, y_pred_Logts, pos_label=3, average=\"weighted\")\n",
    "f1_Logts = f1_score(y_test, y_pred_Logts, average=\"weighted\")\n",
    "\n",
    "y_pred_KNNts = pipe_KNN.predict(X_test)\n",
    "acc_KNNts = accuracy_score(y_test, y_pred_KNNts)\n",
    "prec_KNNts = precision_score(y_test, y_pred_KNNts, average=\"weighted\")\n",
    "rec0_KNNts = recall_score (y_test, y_pred_KNNts, pos_label=0, average=\"weighted\")\n",
    "rec1_KNNts = recall_score(y_test, y_pred_KNNts, pos_label=1, average=\"weighted\")\n",
    "rec2_KNNts = recall_score(y_test, y_pred_KNNts, pos_label=2, average=\"weighted\")\n",
    "rec3_KNNts = recall_score(y_test, y_pred_KNNts, pos_label=3, average=\"weighted\")\n",
    "f1_KNNts = f1_score(y_test, y_pred_KNNts, average=\"weighted\")\n",
    "\n",
    "y_pred_RFts = pipe_RF.predict(X_test)\n",
    "acc_RFts = accuracy_score(y_test, y_pred_RFts)\n",
    "prec_RFts = precision_score(y_test, y_pred_RFts, average=\"weighted\")\n",
    "rec0_RFts = recall_score (y_test, y_pred_RFts, pos_label=0, average=\"weighted\")\n",
    "rec1_RFts = recall_score(y_test, y_pred_RFts, pos_label=1, average=\"weighted\")\n",
    "rec2_RFts = recall_score(y_test, y_pred_RFts, pos_label=2, average=\"weighted\")\n",
    "rec3_RFts = recall_score(y_test, y_pred_RFts, pos_label=3, average=\"weighted\")\n",
    "f1_RFts = f1_score(y_test, y_pred_RFts, average=\"weighted\")\n",
    "\n",
    "y_pred_SVCts = pipe_SVC.predict(X_test)\n",
    "acc_SVCts = accuracy_score(y_test, y_pred_SVCts)\n",
    "prec_SVCts = precision_score(y_test, y_pred_SVCts, average=\"weighted\")\n",
    "rec0_SVCts = recall_score (y_test, y_pred_SVCts, pos_label=0, average=\"weighted\")\n",
    "rec1_SVCts = recall_score(y_test, y_pred_SVCts, pos_label=1, average=\"weighted\")\n",
    "rec2_SVCts = recall_score(y_test, y_pred_SVCts, pos_label=2, average=\"weighted\")\n",
    "rec3_SVCts = recall_score(y_test, y_pred_SVCts, pos_label=3, average=\"weighted\")\n",
    "f1_SVCts = f1_score(y_test, y_pred_SVCts, average=\"weighted\")"
   ]
  },
  {
   "cell_type": "code",
   "execution_count": 10,
   "metadata": {},
   "outputs": [
    {
     "data": {
      "text/html": [
       "<div>\n",
       "<style scoped>\n",
       "    .dataframe tbody tr th:only-of-type {\n",
       "        vertical-align: middle;\n",
       "    }\n",
       "\n",
       "    .dataframe tbody tr th {\n",
       "        vertical-align: top;\n",
       "    }\n",
       "\n",
       "    .dataframe thead th {\n",
       "        text-align: right;\n",
       "    }\n",
       "</style>\n",
       "<table border=\"1\" class=\"dataframe\">\n",
       "  <thead>\n",
       "    <tr style=\"text-align: right;\">\n",
       "      <th></th>\n",
       "      <th>LogReg Train</th>\n",
       "      <th>LogReg Test</th>\n",
       "      <th>KNN Train</th>\n",
       "      <th>KNN Test</th>\n",
       "      <th>RF Train</th>\n",
       "      <th>RF Test</th>\n",
       "      <th>SVC Train</th>\n",
       "      <th>SVC Test</th>\n",
       "    </tr>\n",
       "  </thead>\n",
       "  <tbody>\n",
       "    <tr>\n",
       "      <th>Accuracy</th>\n",
       "      <td>0.968333</td>\n",
       "      <td>0.98</td>\n",
       "      <td>0.727778</td>\n",
       "      <td>0.480000</td>\n",
       "      <td>1.0</td>\n",
       "      <td>0.865000</td>\n",
       "      <td>0.980000</td>\n",
       "      <td>0.910000</td>\n",
       "    </tr>\n",
       "    <tr>\n",
       "      <th>Precision</th>\n",
       "      <td>0.968272</td>\n",
       "      <td>0.98</td>\n",
       "      <td>0.734906</td>\n",
       "      <td>0.515863</td>\n",
       "      <td>1.0</td>\n",
       "      <td>0.870393</td>\n",
       "      <td>0.980129</td>\n",
       "      <td>0.911164</td>\n",
       "    </tr>\n",
       "    <tr>\n",
       "      <th>Recall</th>\n",
       "      <td>0.968333</td>\n",
       "      <td>0.98</td>\n",
       "      <td>0.727778</td>\n",
       "      <td>0.480000</td>\n",
       "      <td>1.0</td>\n",
       "      <td>0.865000</td>\n",
       "      <td>0.980000</td>\n",
       "      <td>0.910000</td>\n",
       "    </tr>\n",
       "    <tr>\n",
       "      <th>F1 Score</th>\n",
       "      <td>0.968254</td>\n",
       "      <td>0.98</td>\n",
       "      <td>0.728105</td>\n",
       "      <td>0.491953</td>\n",
       "      <td>1.0</td>\n",
       "      <td>0.866180</td>\n",
       "      <td>0.980035</td>\n",
       "      <td>0.910184</td>\n",
       "    </tr>\n",
       "  </tbody>\n",
       "</table>\n",
       "</div>"
      ],
      "text/plain": [
       "           LogReg Train  LogReg Test  KNN Train  KNN Test  RF Train   RF Test  \\\n",
       "Accuracy       0.968333         0.98   0.727778  0.480000       1.0  0.865000   \n",
       "Precision      0.968272         0.98   0.734906  0.515863       1.0  0.870393   \n",
       "Recall         0.968333         0.98   0.727778  0.480000       1.0  0.865000   \n",
       "F1 Score       0.968254         0.98   0.728105  0.491953       1.0  0.866180   \n",
       "\n",
       "           SVC Train  SVC Test  \n",
       "Accuracy    0.980000  0.910000  \n",
       "Precision   0.980129  0.911164  \n",
       "Recall      0.980000  0.910000  \n",
       "F1 Score    0.980035  0.910184  "
      ]
     },
     "execution_count": 10,
     "metadata": {},
     "output_type": "execute_result"
    }
   ],
   "source": [
    "data = {\n",
    "    \"LogReg Train\" : [acc_Logtr, prec_Logtr, rec1_Logtr, f1_Logtr],\n",
    "    \"LogReg Test\" : [acc_Logts, prec_Logts, rec1_Logts, f1_Logts],\n",
    "    \"KNN Train\" : [acc_KNNtr, prec_KNNtr, rec1_KNNtr, f1_KNNtr],\n",
    "    \"KNN Test\" : [acc_KNNts, prec_KNNts, rec1_KNNts, f1_KNNts],\n",
    "    \"RF Train\" : [acc_RFtr, prec_RFtr, rec1_RFtr, f1_RFtr],\n",
    "    \"RF Test\" : [acc_RFts, prec_RFts, rec1_RFts, f1_RFts],\n",
    "    \"SVC Train\" : [acc_SVCtr, prec_SVCtr, rec1_SVCtr, f1_SVCtr],\n",
    "    \"SVC Test\" : [acc_SVCts, prec_SVCts, rec1_SVCts, f1_SVCts]\n",
    "}\n",
    "pd.DataFrame(data=data, index=['Accuracy', 'Precision', 'Recall', 'F1 Score'])"
   ]
  },
  {
   "cell_type": "markdown",
   "metadata": {},
   "source": [
    "**Hyperparameter Tuning**"
   ]
  },
  {
   "cell_type": "markdown",
   "metadata": {},
   "source": [
    "Parameter"
   ]
  },
  {
   "cell_type": "code",
   "execution_count": 11,
   "metadata": {},
   "outputs": [],
   "source": [
    "Param_Log = {\n",
    "    \"algo__penalty\" : [\"l1\",\"l2\",\"elasticnet\",\"none\"],\n",
    "    \"algo__class_weight\" : [dict, \"balanced\"],\n",
    "    \"algo__max_iter\" : [10,100,500],\n",
    "    \"algo__intercept_scaling\" : [1,5,10]\n",
    "}\n",
    "\n",
    "Param_KNN = {\n",
    "    \"algo__n_neighbors\" : [1,3,5],\n",
    "    \"algo__weights\" : [\"distance\",\"uniform\"],\n",
    "    \"algo__leaf_size\" : [1,5,15]\n",
    "}\n",
    "\n",
    "Param_RF = {\n",
    "    \"algo__n_estimators\" : [50,300],\n",
    "     #\"max_depth\" : [8],\n",
    "     \"algo__min_samples_split\" : [2,5],\n",
    "     \"algo__min_samples_leaf\" : [1,2]\n",
    "}\n",
    "\n",
    "Param_SVC = {\n",
    "    \"algo__max_iter\" : [2000],\n",
    "    \"algo__kernel\" : ['poly', 'rbf', 'sigmoid'],\n",
    "    \"algo__cache_size\" : [2000],\n",
    "}"
   ]
  },
  {
   "cell_type": "code",
   "execution_count": 12,
   "metadata": {},
   "outputs": [],
   "source": [
    "# pipe_Log.get_params()\n",
    "# pipe_KNN.get_params()\n",
    "# pipe_RF.get_params()\n",
    "# pipe_SVC.get_params()"
   ]
  },
  {
   "cell_type": "code",
   "execution_count": 13,
   "metadata": {},
   "outputs": [],
   "source": [
    "from sklearn.model_selection import GridSearchCV"
   ]
  },
  {
   "cell_type": "markdown",
   "metadata": {},
   "source": [
    "**Logistic Regression Tuning**"
   ]
  },
  {
   "cell_type": "code",
   "execution_count": 14,
   "metadata": {},
   "outputs": [
    {
     "name": "stdout",
     "output_type": "stream",
     "text": [
      "Fitting 3 folds for each of 72 candidates, totalling 216 fits\n"
     ]
    },
    {
     "name": "stderr",
     "output_type": "stream",
     "text": [
      "[Parallel(n_jobs=-1)]: Using backend LokyBackend with 6 concurrent workers.\n",
      "[Parallel(n_jobs=-1)]: Done  38 tasks      | elapsed:    2.0s\n",
      "[Parallel(n_jobs=-1)]: Done 216 out of 216 | elapsed:    3.2s finished\n"
     ]
    },
    {
     "name": "stdout",
     "output_type": "stream",
     "text": [
      "Best Score : 0.9655555555555556\n",
      "Tuned recall LogReg Tuned Train :  0.99\n",
      "Tuned recall LogReg Tuned Test :  0.975\n"
     ]
    }
   ],
   "source": [
    "model_tuned_1 = GridSearchCV(estimator=pipe_Log, param_grid=Param_Log, cv = 3, n_jobs=-1, verbose=1)\n",
    "\n",
    "model_tuned_1.fit(X_train, y_train)\n",
    "model_tuned_1.best_score_\n",
    "model_tuned_1_1 = model_tuned_1.best_estimator_\n",
    "y_tune_1_train = model_tuned_1_1.predict(X_train)\n",
    "y_tune_1_test = model_tuned_1_1.predict(X_test)\n",
    "\n",
    "print('Best Score :',model_tuned_1.best_score_)\n",
    "print('Tuned recall LogReg Tuned Train : ', recall_score(y_train, y_tune_1_train, average=\"weighted\"))\n",
    "print('Tuned recall LogReg Tuned Test : ', recall_score(y_test, y_tune_1_test, average=\"weighted\"))"
   ]
  },
  {
   "cell_type": "markdown",
   "metadata": {},
   "source": [
    "**KNN Tuning**"
   ]
  },
  {
   "cell_type": "code",
   "execution_count": 15,
   "metadata": {},
   "outputs": [
    {
     "name": "stdout",
     "output_type": "stream",
     "text": [
      "Fitting 3 folds for each of 18 candidates, totalling 54 fits\n"
     ]
    },
    {
     "name": "stderr",
     "output_type": "stream",
     "text": [
      "[Parallel(n_jobs=-1)]: Using backend LokyBackend with 6 concurrent workers.\n",
      "[Parallel(n_jobs=-1)]: Done  38 tasks      | elapsed:    1.5s\n",
      "[Parallel(n_jobs=-1)]: Done  54 out of  54 | elapsed:    1.7s finished\n"
     ]
    },
    {
     "name": "stdout",
     "output_type": "stream",
     "text": [
      "Best Score : 0.5261111111111111\n",
      "Tuned recall KNN Tuned Train :  1.0\n",
      "Tuned recall KNN Tuned Test :  0.505\n"
     ]
    }
   ],
   "source": [
    "model_tuned_2 = GridSearchCV(estimator=pipe_KNN, param_grid=Param_KNN, cv = 3, n_jobs=-1, verbose=1)\n",
    "\n",
    "model_tuned_2.fit(X_train, y_train)\n",
    "model_tuned_2.best_score_\n",
    "model_tuned_2_1 = model_tuned_2.best_estimator_\n",
    "y_tune_2_train = model_tuned_2_1.predict(X_train)\n",
    "y_tune_2_test = model_tuned_2_1.predict(X_test)\n",
    "\n",
    "print('Best Score :',model_tuned_2.best_score_)\n",
    "print('Tuned recall KNN Tuned Train : ', recall_score(y_train, y_tune_2_train, average=\"weighted\"))\n",
    "print('Tuned recall KNN Tuned Test : ', recall_score(y_test, y_tune_2_test, average=\"weighted\"))"
   ]
  },
  {
   "cell_type": "markdown",
   "metadata": {},
   "source": [
    "**Random Forest Tuning**"
   ]
  },
  {
   "cell_type": "code",
   "execution_count": 16,
   "metadata": {},
   "outputs": [
    {
     "name": "stdout",
     "output_type": "stream",
     "text": [
      "Fitting 3 folds for each of 8 candidates, totalling 24 fits\n"
     ]
    },
    {
     "name": "stderr",
     "output_type": "stream",
     "text": [
      "[Parallel(n_jobs=-1)]: Using backend LokyBackend with 6 concurrent workers.\n",
      "[Parallel(n_jobs=-1)]: Done  24 out of  24 | elapsed:    2.8s finished\n"
     ]
    },
    {
     "name": "stdout",
     "output_type": "stream",
     "text": [
      "Best Score : 0.8722222222222222\n",
      "Tuned recall RF Tuned Train :  1.0\n",
      "Tuned recall RF Tuned Test :  0.885\n"
     ]
    }
   ],
   "source": [
    "model_tuned_3 = GridSearchCV(estimator=pipe_RF, param_grid=Param_RF, cv = 3, n_jobs=-1, verbose=1)\n",
    "\n",
    "model_tuned_3.fit(X_train, y_train)\n",
    "model_tuned_3.best_score_\n",
    "model_tuned_3_1 = model_tuned_3.best_estimator_\n",
    "y_tune_3_train = model_tuned_3_1.predict(X_train)\n",
    "y_tune_3_test = model_tuned_3_1.predict(X_test)\n",
    "\n",
    "print('Best Score :',model_tuned_3.best_score_)\n",
    "print('Tuned recall RF Tuned Train : ', recall_score(y_train, y_tune_3_train, average=\"weighted\"))\n",
    "print('Tuned recall RF Tuned Test : ', recall_score(y_test, y_tune_3_test, average=\"weighted\"))"
   ]
  },
  {
   "cell_type": "markdown",
   "metadata": {},
   "source": [
    "**SVC Tuning**"
   ]
  },
  {
   "cell_type": "code",
   "execution_count": 17,
   "metadata": {},
   "outputs": [
    {
     "name": "stdout",
     "output_type": "stream",
     "text": [
      "Fitting 3 folds for each of 3 candidates, totalling 9 fits\n"
     ]
    },
    {
     "name": "stderr",
     "output_type": "stream",
     "text": [
      "[Parallel(n_jobs=-1)]: Using backend LokyBackend with 6 concurrent workers.\n",
      "[Parallel(n_jobs=-1)]: Done   9 out of   9 | elapsed:    0.0s finished\n"
     ]
    },
    {
     "name": "stdout",
     "output_type": "stream",
     "text": [
      "Best Score : 0.8766666666666666\n",
      "Tuned recall SVC Tuned Train :  0.815\n",
      "Tuned recall SVC Tuned Test :  0.9\n"
     ]
    }
   ],
   "source": [
    "model_tuned_4 = GridSearchCV(estimator=pipe_SVC, param_grid=Param_SVC, cv = 3, n_jobs=-1, verbose=1)\n",
    "\n",
    "model_tuned_4.fit(X_train, y_train)\n",
    "model_tuned_4.best_score_\n",
    "model_tuned_4_1 = model_tuned_4.best_estimator_\n",
    "y_tune_4_train = model_tuned_4_1.predict(X_train)\n",
    "y_tune_4_test = model_tuned_4_1.predict(X_test)\n",
    "\n",
    "print('Best Score :',model_tuned_4.best_score_)\n",
    "print('Tuned recall SVC Tuned Train : ', recall_score(y_train, y_tune_4_train, average=\"weighted\"))\n",
    "print('Tuned recall SVC Tuned Test : ', recall_score(y_test, y_tune_4_test, average=\"weighted\"))"
   ]
  },
  {
   "cell_type": "markdown",
   "metadata": {},
   "source": [
    "**Evaluation Metrics Tuned**"
   ]
  },
  {
   "cell_type": "code",
   "execution_count": 18,
   "metadata": {},
   "outputs": [],
   "source": [
    "acc_Logtr_tuned = accuracy_score(y_train, y_tune_1_train)\n",
    "prec_Logtr_tuned = precision_score(y_train, y_tune_1_train, average=\"weighted\")\n",
    "rec0_Logtr_tuned = recall_score(y_train, y_tune_1_train, pos_label=0, average=\"weighted\")\n",
    "rec1_Logtr_tuned = recall_score(y_train, y_tune_1_train, pos_label=1, average=\"weighted\")\n",
    "f1_Logtr_tuned = f1_score(y_train, y_tune_1_train, average=\"weighted\")\n",
    "\n",
    "acc_KNNtr_tuned = accuracy_score(y_train, y_tune_2_train)\n",
    "prec_KNNtr_tuned = precision_score(y_train, y_tune_2_train, average=\"weighted\")\n",
    "rec0_KNNtr_tuned = recall_score(y_train, y_tune_2_train, pos_label=0, average=\"weighted\")\n",
    "rec1_KNNtr_tuned = recall_score(y_train, y_tune_2_train, pos_label=1, average=\"weighted\")\n",
    "f1_KNNtr_tuned = f1_score(y_train, y_tune_2_train, average=\"weighted\")\n",
    "\n",
    "acc_RFtr_tuned = accuracy_score(y_train, y_tune_3_train)\n",
    "prec_RFtr_tuned = precision_score(y_train, y_tune_3_train, average=\"weighted\")\n",
    "rec0_RFtr_tuned = recall_score(y_train, y_tune_3_train, pos_label=0, average=\"weighted\")\n",
    "rec1_RFtr_tuned = recall_score(y_train, y_tune_3_train, pos_label=1, average=\"weighted\")\n",
    "f1_RFtr_tuned = f1_score(y_train, y_tune_3_train, average=\"weighted\")\n",
    "\n",
    "acc_SVCtr_tuned = accuracy_score(y_train, y_tune_4_train)\n",
    "prec_SVCtr_tuned = precision_score(y_train, y_tune_4_train, average=\"weighted\")\n",
    "rec0_SVCtr_tuned = recall_score(y_train, y_tune_4_train, pos_label=0, average=\"weighted\")\n",
    "rec1_SVCtr_tuned = recall_score(y_train, y_tune_4_train, pos_label=1, average=\"weighted\")\n",
    "f1_SVCtr_tuned = f1_score(y_train, y_tune_4_train, average=\"weighted\")\n",
    "\n",
    "\n",
    "acc_Logts_tuned = accuracy_score(y_test, y_tune_1_test)\n",
    "prec_Logts_tuned = precision_score(y_test, y_tune_1_test, average=\"weighted\")\n",
    "rec0_Logts_tuned = recall_score(y_test, y_tune_1_test, pos_label=0, average=\"weighted\")\n",
    "rec1_Logts_tuned = recall_score(y_test, y_tune_1_test, pos_label=1, average=\"weighted\")\n",
    "f1_Logts_tuned = f1_score(y_test, y_tune_1_test, average=\"weighted\")\n",
    "\n",
    "acc_KNNts_tuned = accuracy_score(y_test, y_tune_2_test)\n",
    "prec_KNNts_tuned = precision_score(y_test, y_tune_2_test, average=\"weighted\")\n",
    "rec0_KNNts_tuned = recall_score(y_test, y_tune_2_test, pos_label=0, average=\"weighted\")\n",
    "rec1_KNNts_tuned = recall_score(y_test, y_tune_2_test, pos_label=1, average=\"weighted\")\n",
    "f1_KNNts_tuned = f1_score(y_test, y_tune_2_test, average=\"weighted\")\n",
    "\n",
    "acc_RFts_tuned = accuracy_score(y_test, y_tune_3_test)\n",
    "prec_RFts_tuned = precision_score(y_test, y_tune_3_test, average=\"weighted\")\n",
    "rec0_RFts_tuned = recall_score(y_test, y_tune_3_test, pos_label=0, average=\"weighted\")\n",
    "rec1_RFts_tuned = recall_score(y_test, y_tune_3_test, pos_label=1, average=\"weighted\")\n",
    "f1_RFts_tuned = f1_score(y_test, y_tune_3_test, average=\"weighted\")\n",
    "\n",
    "acc_SVCts_tuned = accuracy_score(y_test, y_tune_4_test)\n",
    "prec_SVCts_tuned = precision_score(y_test, y_tune_4_test, average=\"weighted\")\n",
    "rec0_SVCts_tuned = recall_score(y_test, y_tune_4_test, pos_label=0, average=\"weighted\")\n",
    "rec1_SVCts_tuned = recall_score(y_test, y_tune_4_test, pos_label=1, average=\"weighted\")\n",
    "f1_SVCts_tuned = f1_score(y_test, y_tune_4_test, average=\"weighted\")"
   ]
  },
  {
   "cell_type": "code",
   "execution_count": 19,
   "metadata": {},
   "outputs": [
    {
     "data": {
      "text/html": [
       "<div>\n",
       "<style scoped>\n",
       "    .dataframe tbody tr th:only-of-type {\n",
       "        vertical-align: middle;\n",
       "    }\n",
       "\n",
       "    .dataframe tbody tr th {\n",
       "        vertical-align: top;\n",
       "    }\n",
       "\n",
       "    .dataframe thead th {\n",
       "        text-align: right;\n",
       "    }\n",
       "</style>\n",
       "<table border=\"1\" class=\"dataframe\">\n",
       "  <thead>\n",
       "    <tr style=\"text-align: right;\">\n",
       "      <th></th>\n",
       "      <th>LogReg Tuned Train</th>\n",
       "      <th>LogReg Tuned Test</th>\n",
       "      <th>KNN Tuned Train</th>\n",
       "      <th>KNN Tuned Test</th>\n",
       "      <th>RF Tuned Train</th>\n",
       "      <th>RF Tuned Test</th>\n",
       "      <th>SVC Tuned Train</th>\n",
       "      <th>SVC Tuned Test</th>\n",
       "    </tr>\n",
       "  </thead>\n",
       "  <tbody>\n",
       "    <tr>\n",
       "      <th>Accuracy</th>\n",
       "      <td>0.990000</td>\n",
       "      <td>0.975000</td>\n",
       "      <td>1.0</td>\n",
       "      <td>0.505000</td>\n",
       "      <td>1.0</td>\n",
       "      <td>0.885000</td>\n",
       "      <td>0.815000</td>\n",
       "      <td>0.900000</td>\n",
       "    </tr>\n",
       "    <tr>\n",
       "      <th>Precision</th>\n",
       "      <td>0.990019</td>\n",
       "      <td>0.975865</td>\n",
       "      <td>1.0</td>\n",
       "      <td>0.527963</td>\n",
       "      <td>1.0</td>\n",
       "      <td>0.884813</td>\n",
       "      <td>0.816778</td>\n",
       "      <td>0.900945</td>\n",
       "    </tr>\n",
       "    <tr>\n",
       "      <th>Recall</th>\n",
       "      <td>0.990000</td>\n",
       "      <td>0.975000</td>\n",
       "      <td>1.0</td>\n",
       "      <td>0.505000</td>\n",
       "      <td>1.0</td>\n",
       "      <td>0.885000</td>\n",
       "      <td>0.815000</td>\n",
       "      <td>0.900000</td>\n",
       "    </tr>\n",
       "    <tr>\n",
       "      <th>F1 Score</th>\n",
       "      <td>0.990005</td>\n",
       "      <td>0.975027</td>\n",
       "      <td>1.0</td>\n",
       "      <td>0.510319</td>\n",
       "      <td>1.0</td>\n",
       "      <td>0.884864</td>\n",
       "      <td>0.815759</td>\n",
       "      <td>0.900342</td>\n",
       "    </tr>\n",
       "  </tbody>\n",
       "</table>\n",
       "</div>"
      ],
      "text/plain": [
       "           LogReg Tuned Train  LogReg Tuned Test  KNN Tuned Train  \\\n",
       "Accuracy             0.990000           0.975000              1.0   \n",
       "Precision            0.990019           0.975865              1.0   \n",
       "Recall               0.990000           0.975000              1.0   \n",
       "F1 Score             0.990005           0.975027              1.0   \n",
       "\n",
       "           KNN Tuned Test  RF Tuned Train  RF Tuned Test  SVC Tuned Train  \\\n",
       "Accuracy         0.505000             1.0       0.885000         0.815000   \n",
       "Precision        0.527963             1.0       0.884813         0.816778   \n",
       "Recall           0.505000             1.0       0.885000         0.815000   \n",
       "F1 Score         0.510319             1.0       0.884864         0.815759   \n",
       "\n",
       "           SVC Tuned Test  \n",
       "Accuracy         0.900000  \n",
       "Precision        0.900945  \n",
       "Recall           0.900000  \n",
       "F1 Score         0.900342  "
      ]
     },
     "execution_count": 19,
     "metadata": {},
     "output_type": "execute_result"
    }
   ],
   "source": [
    "data = {\n",
    "    \"LogReg Tuned Train\" : [acc_Logtr_tuned, prec_Logtr_tuned, rec1_Logtr_tuned, f1_Logtr_tuned],\n",
    "    \"LogReg Tuned Test\" : [acc_Logts_tuned, prec_Logts_tuned, rec1_Logts_tuned, f1_Logts_tuned],\n",
    "    \"KNN Tuned Train\" : [acc_KNNtr_tuned, prec_KNNtr_tuned, rec1_KNNtr_tuned, f1_KNNtr_tuned],\n",
    "    \"KNN Tuned Test\" : [acc_KNNts_tuned, prec_KNNts_tuned, rec1_KNNts_tuned, f1_KNNts_tuned],\n",
    "    \"RF Tuned Train\" : [acc_RFtr_tuned, prec_RFtr_tuned, rec1_RFtr_tuned, f1_RFtr_tuned],\n",
    "    \"RF Tuned Test\" : [acc_RFts_tuned, prec_RFts_tuned, rec1_RFts_tuned, f1_RFts_tuned],\n",
    "    \"SVC Tuned Train\" : [acc_SVCtr_tuned, prec_SVCtr_tuned, rec1_SVCtr_tuned, f1_SVCtr_tuned],\n",
    "    \"SVC Tuned Test\" : [acc_SVCts_tuned, prec_SVCts_tuned, rec1_SVCts_tuned, f1_SVCts_tuned]\n",
    "}\n",
    "pd.DataFrame(data=data, index=['Accuracy', 'Precision', 'Recall', 'F1 Score'])"
   ]
  },
  {
   "cell_type": "markdown",
   "metadata": {},
   "source": [
    "**Confusion Matrix**"
   ]
  },
  {
   "cell_type": "code",
   "execution_count": 20,
   "metadata": {},
   "outputs": [],
   "source": [
    "cmLog = confusion_matrix(y_test, y_tune_1_test, labels=[3, 2, 1, 0])\n",
    "dfLog = pd.DataFrame(data=cmLog, columns=['Prediction 3', 'Prediction 2', 'Prediction 1', 'Prediction 0'], index = ['Actual 3', 'Actual 2', 'Actual 1', 'Actual 0'])\n",
    "\n",
    "cmKNN = confusion_matrix(y_test, y_tune_2_test, labels=[3, 2, 1, 0])\n",
    "dfKNN = pd.DataFrame(data=cmKNN, columns=['Prediction 3', 'Prediction 2', 'Prediction 1', 'Prediction 0'], index = ['Actual 3', 'Actual 2', 'Actual 1', 'Actual 0'])\n",
    "\n",
    "cmRF = confusion_matrix(y_test, y_tune_3_test, labels=[3, 2, 1, 0])\n",
    "dfRF = pd.DataFrame(data=cmRF, columns=['Prediction 3', 'Prediction 2', 'Prediction 1', 'Prediction 0'], index = ['Actual 3', 'Actual 2', 'Actual 1', 'Actual 0'])\n",
    "\n",
    "cmSVC = confusion_matrix(y_test, y_tune_4_test, labels=[3, 2, 1, 0])\n",
    "dfSVC = pd.DataFrame(data=cmSVC, columns=['Prediction 3', 'Prediction 2', 'Prediction 1', 'Prediction 0'], index = ['Actual 3', 'Actual 2', 'Actual 1', 'Actual 0'])"
   ]
  },
  {
   "cell_type": "code",
   "execution_count": 21,
   "metadata": {
    "scrolled": true
   },
   "outputs": [
    {
     "data": {
      "image/png": "[encoded data removed]",
      "text/plain": [
       "<Figure size 1296x1296 with 8 Axes>"
      ]
     },
     "metadata": {
      "needs_background": "light"
     },
     "output_type": "display_data"
    }
   ],
   "source": [
    "plt.figure(figsize=(18, 18))\n",
    "\n",
    "plt.subplot(4,4,1)\n",
    "sns.heatmap(dfLog, annot=True)\n",
    "plt.title('Logistic Regression')\n",
    "\n",
    "plt.subplot(4,4,2)\n",
    "sns.heatmap(dfKNN, annot=True)\n",
    "plt.title('K Nearest Neighbor')\n",
    "\n",
    "plt.subplot(4,4,3)\n",
    "sns.heatmap(dfRF, annot=True)\n",
    "plt.title('Random Forest Classifier')\n",
    "\n",
    "plt.subplot(4,4,4)\n",
    "sns.heatmap(dfSVC, annot=True)\n",
    "plt.title('Support Vector Classification')\n",
    "\n",
    "plt.show()"
   ]
  }
 ],
 "metadata": {
  "kernelspec": {
   "display_name": "Python 3",
   "language": "python",
   "name": "python3"
  },
  "language_info": {
   "codemirror_mode": {
    "name": "ipython",
    "version": 3
   },
   "file_extension": ".py",
   "mimetype": "text/x-python",
   "name": "python",
   "nbconvert_exporter": "python",
   "pygments_lexer": "ipython3",
   "version": "3.8.3"
  }
 },
 "nbformat": 4,
 "nbformat_minor": 4
}
